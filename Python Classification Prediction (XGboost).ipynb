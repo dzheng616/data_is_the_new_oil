{
 "cells": [
  {
   "cell_type": "markdown",
   "metadata": {},
   "source": [
    "# Time Series Prediction Model.\n",
    "#### The purpose of this notebook is to extract time series data to train a failure prediction model (XGboost), compare its prediction result and value with an outdated prediction model (Random Forest), and replace models if needed"
   ]
  },
  {
   "cell_type": "markdown",
   "metadata": {},
   "source": [
    "# Load Data"
   ]
  },
  {
   "cell_type": "code",
   "execution_count": 5,
   "metadata": {},
   "outputs": [],
   "source": [
    "### Load Equipment Failure Data from Microsoft SQL Server and save  "
   ]
  },
  {
   "cell_type": "code",
   "execution_count": 2,
   "metadata": {},
   "outputs": [
    {
     "data": {
      "text/html": [
       "<style scoped>\n",
       "  .ansiout {\n",
       "    display: block;\n",
       "    unicode-bidi: embed;\n",
       "    white-space: pre-wrap;\n",
       "    word-wrap: break-word;\n",
       "    word-break: break-all;\n",
       "    font-family: \"Source Code Pro\", \"Menlo\", monospace;;\n",
       "    font-size: 13px;\n",
       "    color: #555;\n",
       "    margin-left: 4px;\n",
       "    line-height: 19px;\n",
       "  }\n",
       "</style>\n",
       "<div class=\"ansiout\"></div>"
      ]
     },
     "metadata": {},
     "output_type": "display_data"
    }
   ],
   "source": [
    "driver = \"com.microsoft.sqlserver.jdbc.SQLServerDriver\"\n",
    "url = dbutils.secrets.get('ODS-Integration-KV','ODS-ConnectionString')\n",
    "\n",
    "table1 = \"\"\"(\n",
    "select \n",
    "[pranumber]\n",
    ",[caldate]\n",
    ",[wellname]\n",
    ",[x_grosspumpstroke_std]\n",
    ",[x_tubpres_std]\n",
    ",[x_pumpfil_std]\n",
    ",[x_fluidload_std]\n",
    ",[x_curinfprod_std]\n",
    ",[x_pumphp_std]\n",
    ",[x_maxrodload_std]\n",
    ",[x_mprl_std]\n",
    ",[x_avgpprl_std]\n",
    ",[x_fluidloadonpump_std]\n",
    ",[x_pumpefficiency_std]\n",
    ",[xGrossPumpStrokeFlag]\n",
    ",[xTubingPressureFlag]\n",
    ",[xPumpFillageFlag]\n",
    ",[xFluidLoadFlag]\n",
    ",[xCurInfProdFlag]\n",
    ",[xMaxRodLoadFlag]\n",
    ",[xMPRLFlag]\n",
    ",[xPPRLFlag]\n",
    ",[xFluidLoadOnPumpFlag]\n",
    ",[xPumpEfficiencyFlag]\n",
    ",[xPumpHPFlag]\n",
    ",case when f.failure_date is not null and Equipment_Failure_type = 'Tubing' THEN 1 ELSE 0 END as flag_2days\n",
    ",case when f.failure_date is not null  then 1 ELSE 0 END failure_flag_all\n",
    ",case when Equipment_Failure_type = 'Tubing' and abs(datediff(hour,m.caldate,f.failure_date)) <=12 then 1 else 0 end as flag\n",
    ",cast(f.failure_Date as date) as Failure_2_days\n",
    ",case when cast(f.failure_Date as date) = cast(caldate as date) then 1 else 0 end as AnyFailureDay\n",
    "\n",
    "from [ana_ops].[TLF_ML_InputDataset_Diag] m\n",
    "\n",
    "left join (\n",
    "select distinct pra_NO, Failure_Date, Equipment_Failure_type from [ana_ops].[v_wv_nd_wellfailure] \n",
    "where record_type = 'Primary') f on f.pra_no = m.pranumber and abs(datediff(day,m.caldate,f.failure_date)) <=2\n",
    "\n",
    "left join (\n",
    "select distinct pra_NO, Failure_Date as failure_range from [ana_ops].[v_wv_nd_wellfailure] \n",
    "where record_type = 'Primary') fw on fw.pra_no = m.pranumber and abs(datediff(day,m.caldate,fw.failure_range)) <= 30\n",
    "\n",
    "where m.producingmethod = 'PR - PUMPING ROD' and m.district like 'North D%'and(datepart(hour,m.caldate) % 12 = 0 or fw.failure_range is not null)\n",
    ") foo\"\"\"\n",
    "\n",
    "spark.conf.set(\"spark.sql.legacy.allowCreatingManagedTableUsingNonemptyLocation\",\"false\")\n",
    "\n",
    "table1 = spark.read.format(\"jdbc\")\\\n",
    "  .option(\"driver\", driver)\\\n",
    "  .option(\"url\", url)\\\n",
    "  .option(\"dbtable\", table1)\\\n",
    "  .load()\n",
    "table1.write.format(\"parquet\").saveAsTable(\"TL_Retrain_Input\", mode = 'overwrite')"
   ]
  },
  {
   "cell_type": "code",
   "execution_count": 3,
   "metadata": {},
   "outputs": [
    {
     "data": {
      "text/html": [
       "<style scoped>\n",
       "  .ansiout {\n",
       "    display: block;\n",
       "    unicode-bidi: embed;\n",
       "    white-space: pre-wrap;\n",
       "    word-wrap: break-word;\n",
       "    word-break: break-all;\n",
       "    font-family: \"Source Code Pro\", \"Menlo\", monospace;;\n",
       "    font-size: 13px;\n",
       "    color: #555;\n",
       "    margin-left: 4px;\n",
       "    line-height: 19px;\n",
       "  }\n",
       "</style>\n",
       "<div class=\"ansiout\"></div>"
      ]
     },
     "metadata": {},
     "output_type": "display_data"
    }
   ],
   "source": [
    "### converting to pandas dataframe \n",
    "df = spark.sql('select * from TL_Retrain_Input')\n",
    "df = df.toPandas()"
   ]
  },
  {
   "cell_type": "markdown",
   "metadata": {},
   "source": [
    "# Package Import and Functions"
   ]
  },
  {
   "cell_type": "code",
   "execution_count": 5,
   "metadata": {},
   "outputs": [
    {
     "data": {
      "text/html": [
       "<style scoped>\n",
       "  .ansiout {\n",
       "    display: block;\n",
       "    unicode-bidi: embed;\n",
       "    white-space: pre-wrap;\n",
       "    word-wrap: break-word;\n",
       "    word-break: break-all;\n",
       "    font-family: \"Source Code Pro\", \"Menlo\", monospace;;\n",
       "    font-size: 13px;\n",
       "    color: #555;\n",
       "    margin-left: 4px;\n",
       "    line-height: 19px;\n",
       "  }\n",
       "</style>\n",
       "<div class=\"ansiout\"></div>"
      ]
     },
     "metadata": {},
     "output_type": "display_data"
    }
   ],
   "source": [
    "### standard data processing packages\n",
    "import pandas as pd\n",
    "import pickle\n",
    "import numpy as np\n",
    "import sklearn\n",
    "import matplotlib.pyplot as plt"
   ]
  },
  {
   "cell_type": "code",
   "execution_count": 6,
   "metadata": {},
   "outputs": [
    {
     "data": {
      "text/html": [
       "<style scoped>\n",
       "  .ansiout {\n",
       "    display: block;\n",
       "    unicode-bidi: embed;\n",
       "    white-space: pre-wrap;\n",
       "    word-wrap: break-word;\n",
       "    word-break: break-all;\n",
       "    font-family: \"Source Code Pro\", \"Menlo\", monospace;;\n",
       "    font-size: 13px;\n",
       "    color: #555;\n",
       "    margin-left: 4px;\n",
       "    line-height: 19px;\n",
       "  }\n",
       "</style>\n",
       "<div class=\"ansiout\"></div>"
      ]
     },
     "metadata": {},
     "output_type": "display_data"
    }
   ],
   "source": [
    "### model preparation and modeling packages\n",
    "from imblearn.over_sampling import RandomOverSampler\n",
    "from xgboost import XGBClassifier\n",
    "from sklearn.model_selection import GroupKFold, cross_val_score, GridSearchCV\n",
    "from sklearn.preprocessing import StandardScaler\n",
    "from sklearn.metrics import confusion_matrix, f1_score, classification_report\n",
    "import shap"
   ]
  },
  {
   "cell_type": "code",
   "execution_count": 1,
   "metadata": {},
   "outputs": [],
   "source": [
    "# customized scoring function for grid search cost/value\n",
    "def my_scorer(clf, X, Y):\n",
    "    y_pred_proba = clf.predict_proba(X)[:, 1]  \n",
    "    value = 0\n",
    "    y_true = Y[:,].tolist()\n",
    "    for index in range(len(y_pred_proba)):\n",
    "        # print(index)\n",
    "        if y_true[index] == 0 and y_pred_proba[index] == 0:\n",
    "            value -= 0 # Reducing cost by x_amt\n",
    "        elif y_true[index] == 0 and y_pred_proba[index] == 1:\n",
    "            value += fp_cost  # Wrong classification adds cost\n",
    "        elif y_true[index] == 1 and y_pred_proba[index] == 0:\n",
    "            value += 0 # Wrong classification adds cost and fee\n",
    "        elif y_true[index] == 1 and y_pred_proba[index] == 1:\n",
    "            value += 6600  # No cost\n",
    "        else:\n",
    "            value += 0\n",
    "    return value"
   ]
  },
  {
   "cell_type": "markdown",
   "metadata": {},
   "source": [
    "# New Model - XGBoost Implementation (Post Iteration)"
   ]
  },
  {
   "cell_type": "markdown",
   "metadata": {},
   "source": [
    "## Preprare data for training"
   ]
  },
  {
   "cell_type": "code",
   "execution_count": 9,
   "metadata": {},
   "outputs": [
    {
     "data": {
      "text/html": [
       "<style scoped>\n",
       "  .ansiout {\n",
       "    display: block;\n",
       "    unicode-bidi: embed;\n",
       "    white-space: pre-wrap;\n",
       "    word-wrap: break-word;\n",
       "    word-break: break-all;\n",
       "    font-family: \"Source Code Pro\", \"Menlo\", monospace;;\n",
       "    font-size: 13px;\n",
       "    color: #555;\n",
       "    margin-left: 4px;\n",
       "    line-height: 19px;\n",
       "  }\n",
       "</style>\n",
       "<div class=\"ansiout\"></div>"
      ]
     },
     "metadata": {},
     "output_type": "display_data"
    }
   ],
   "source": [
    "df= df.set_index(['wellname','pranumber','caldate'],drop=False)\n",
    "df = df.sort_index()"
   ]
  },
  {
   "cell_type": "code",
   "execution_count": 12,
   "metadata": {},
   "outputs": [
    {
     "data": {
      "text/html": [
       "<style scoped>\n",
       "  .ansiout {\n",
       "    display: block;\n",
       "    unicode-bidi: embed;\n",
       "    white-space: pre-wrap;\n",
       "    word-wrap: break-word;\n",
       "    word-break: break-all;\n",
       "    font-family: \"Source Code Pro\", \"Menlo\", monospace;;\n",
       "    font-size: 13px;\n",
       "    color: #555;\n",
       "    margin-left: 4px;\n",
       "    line-height: 19px;\n",
       "  }\n",
       "</style>\n",
       "<div class=\"ansiout\"></div>"
      ]
     },
     "metadata": {},
     "output_type": "display_data"
    }
   ],
   "source": [
    "# identify equipment currenting running witout a failure\n",
    "df.Failure_2_days = df.groupby(df.index.get_level_values(0)).Failure_2_days.bfill().fillna('Current Run')"
   ]
  },
  {
   "cell_type": "code",
   "execution_count": 13,
   "metadata": {},
   "outputs": [
    {
     "data": {
      "text/html": [
       "<style scoped>\n",
       "  .ansiout {\n",
       "    display: block;\n",
       "    unicode-bidi: embed;\n",
       "    white-space: pre-wrap;\n",
       "    word-wrap: break-word;\n",
       "    word-break: break-all;\n",
       "    font-family: \"Source Code Pro\", \"Menlo\", monospace;;\n",
       "    font-size: 13px;\n",
       "    color: #555;\n",
       "    margin-left: 4px;\n",
       "    line-height: 19px;\n",
       "  }\n",
       "</style>\n",
       "<div class=\"ansiout\">wellname   pranumber  caldate            \n",
       "3WX 3-1H   015512     2016-02-16 00:00:00    Current Run\n",
       "                      2016-02-16 12:00:00    Current Run\n",
       "                      2016-02-17 00:00:00    Current Run\n",
       "                      2016-02-17 12:00:00    Current Run\n",
       "                      2016-02-18 00:00:00    Current Run\n",
       "                                                ...     \n",
       "WING 9-1H  013615     2020-07-11 12:00:00    Current Run\n",
       "                      2020-07-12 00:00:00    Current Run\n",
       "                      2020-07-12 12:00:00    Current Run\n",
       "                      2020-07-13 00:00:00    Current Run\n",
       "                      2020-07-13 12:00:00    Current Run\n",
       "Name: Failure_2_days, Length: 6867362, dtype: object\n",
       "Out[62]: (6867362, 30)</div>"
      ]
     },
     "metadata": {},
     "output_type": "display_data"
    }
   ],
   "source": [
    "print(df.Failure_2_days)\n",
    "print(df.shape)"
   ]
  },
  {
   "cell_type": "code",
   "execution_count": 14,
   "metadata": {},
   "outputs": [
    {
     "data": {
      "text/html": [
       "<style scoped>\n",
       "  .ansiout {\n",
       "    display: block;\n",
       "    unicode-bidi: embed;\n",
       "    white-space: pre-wrap;\n",
       "    word-wrap: break-word;\n",
       "    word-break: break-all;\n",
       "    font-family: \"Source Code Pro\", \"Menlo\", monospace;;\n",
       "    font-size: 13px;\n",
       "    color: #555;\n",
       "    margin-left: 4px;\n",
       "    line-height: 19px;\n",
       "  }\n",
       "</style>\n",
       "<div class=\"ansiout\">Out[63]: (5023756, 30)</div>"
      ]
     },
     "metadata": {},
     "output_type": "display_data"
    }
   ],
   "source": [
    "#remove any null rows\n",
    "df = df.dropna()\n",
    "df.shape"
   ]
  },
  {
   "cell_type": "code",
   "execution_count": 15,
   "metadata": {},
   "outputs": [
    {
     "data": {
      "text/html": [
       "<style scoped>\n",
       "  .ansiout {\n",
       "    display: block;\n",
       "    unicode-bidi: embed;\n",
       "    white-space: pre-wrap;\n",
       "    word-wrap: break-word;\n",
       "    word-break: break-all;\n",
       "    font-family: \"Source Code Pro\", \"Menlo\", monospace;;\n",
       "    font-size: 13px;\n",
       "    color: #555;\n",
       "    margin-left: 4px;\n",
       "    line-height: 19px;\n",
       "  }\n",
       "</style>\n",
       "<div class=\"ansiout\"></div>"
      ]
     },
     "metadata": {},
     "output_type": "display_data"
    }
   ],
   "source": [
    "# set 0/1 target flag\n",
    "df['TestDataSet'] =  0 \n",
    "df.loc[(pd.to_datetime(df['caldate']) - pd.to_datetime('today') > '-120 days +00:00:00'), 'TestDataSet'] = 1  "
   ]
  },
  {
   "cell_type": "code",
   "execution_count": 16,
   "metadata": {},
   "outputs": [
    {
     "data": {
      "text/html": [
       "<style scoped>\n",
       "  .ansiout {\n",
       "    display: block;\n",
       "    unicode-bidi: embed;\n",
       "    white-space: pre-wrap;\n",
       "    word-wrap: break-word;\n",
       "    word-break: break-all;\n",
       "    font-family: \"Source Code Pro\", \"Menlo\", monospace;;\n",
       "    font-size: 13px;\n",
       "    color: #555;\n",
       "    margin-left: 4px;\n",
       "    line-height: 19px;\n",
       "  }\n",
       "</style>\n",
       "<div class=\"ansiout\"></div>"
      ]
     },
     "metadata": {},
     "output_type": "display_data"
    }
   ],
   "source": [
    "# identify input feature columns\n",
    "input_cols = ['x_grosspumpstroke_std',\n",
    "       'x_tubpres_std', 'x_pumpfil_std', 'x_fluidload_std', 'x_curinfprod_std',\n",
    "       'x_pumphp_std', 'x_maxrodload_std', 'x_mprl_std', 'x_avgpprl_std',\n",
    "       'x_fluidloadonpump_std', 'x_pumpefficiency_std', 'xGrossPumpStrokeFlag',\n",
    "       'xTubingPressureFlag', 'xPumpFillageFlag', 'xFluidLoadFlag',\n",
    "       'xCurInfProdFlag', 'xMaxRodLoadFlag', 'xMPRLFlag', 'xPPRLFlag',\n",
    "       'xFluidLoadOnPumpFlag', 'xPumpEfficiencyFlag', 'xPumpHPFlag']"
   ]
  },
  {
   "cell_type": "code",
   "execution_count": 18,
   "metadata": {
    "scrolled": true
   },
   "outputs": [
    {
     "data": {
      "text/html": [
       "<style scoped>\n",
       "  .ansiout {\n",
       "    display: block;\n",
       "    unicode-bidi: embed;\n",
       "    white-space: pre-wrap;\n",
       "    word-wrap: break-word;\n",
       "    word-break: break-all;\n",
       "    font-family: \"Source Code Pro\", \"Menlo\", monospace;;\n",
       "    font-size: 13px;\n",
       "    color: #555;\n",
       "    margin-left: 4px;\n",
       "    line-height: 19px;\n",
       "  }\n",
       "</style>\n",
       "<div class=\"ansiout\">4638588\n",
       "28917\n",
       "Pass sampling_strategy=0.5 as keyword args. From version 0.9 passing these as positional arguments will result in an error\n",
       "3247011\n",
       "61371\n",
       "20457.0\n",
       "</div>"
      ]
     },
     "metadata": {},
     "output_type": "display_data"
    }
   ],
   "source": [
    "# prepare training and testing data\n",
    "X = df[df.TestDataSet == 0][input_cols]\n",
    "Y = df[df.TestDataSet == 0]['flag']\n",
    "\n",
    "\n",
    "print(len(Y))\n",
    "print(sum(Y))\n",
    "\n",
    "X = X.loc[:,~X.columns.duplicated()]\n",
    "X = X.astype(np.float32)\n",
    "Y = Y.astype(np.float32)\n",
    "\n",
    "train_len = int(len(X) * 0.7)\n",
    "X_train = X.iloc[:train_len]\n",
    "X_test = X.iloc[train_len:]\n",
    "y_train = Y.iloc[:train_len]\n",
    "y_test = Y.iloc[train_len:]\n",
    "\n",
    "## apply sampling technique \n",
    "sampling_strategy=0.5\n",
    "ros = RandomUnderSampler(sampling_strategy)\n",
    "\n",
    "x_train_ros, y_train_ros = ros.fit_sample(X_train, y_train)\n",
    "X_train_s = pd.DataFrame(x_train_ros, columns = input_cols)\n",
    "\n",
    "print(len(X_train))\n",
    "print(len(x_train_ros))\n",
    "print(sum(y_train))"
   ]
  },
  {
   "cell_type": "code",
   "execution_count": 20,
   "metadata": {},
   "outputs": [
    {
     "data": {
      "text/html": [
       "<style scoped>\n",
       "  .ansiout {\n",
       "    display: block;\n",
       "    unicode-bidi: embed;\n",
       "    white-space: pre-wrap;\n",
       "    word-wrap: break-word;\n",
       "    word-break: break-all;\n",
       "    font-family: \"Source Code Pro\", \"Menlo\", monospace;;\n",
       "    font-size: 13px;\n",
       "    color: #555;\n",
       "    margin-left: 4px;\n",
       "    line-height: 19px;\n",
       "  }\n",
       "</style>\n",
       "<div class=\"ansiout\"></div>"
      ]
     },
     "metadata": {},
     "output_type": "display_data"
    }
   ],
   "source": [
    "### define economic cost and value for grid search scoring\n",
    "tp_value=6600\n",
    "fp_cost=-2000"
   ]
  },
  {
   "cell_type": "markdown",
   "metadata": {},
   "source": [
    "## Grid Search for Hyperparameter Tuning"
   ]
  },
  {
   "cell_type": "code",
   "execution_count": 22,
   "metadata": {},
   "outputs": [
    {
     "data": {
      "text/html": [
       "<style scoped>\n",
       "  .ansiout {\n",
       "    display: block;\n",
       "    unicode-bidi: embed;\n",
       "    white-space: pre-wrap;\n",
       "    word-wrap: break-word;\n",
       "    word-break: break-all;\n",
       "    font-family: \"Source Code Pro\", \"Menlo\", monospace;;\n",
       "    font-size: 13px;\n",
       "    color: #555;\n",
       "    margin-left: 4px;\n",
       "    line-height: 19px;\n",
       "  }\n",
       "</style>\n",
       "<div class=\"ansiout\">Fitting 5 folds for each of 16 candidates, totalling 80 fits\n",
       "[Parallel(n_jobs=2)]: Using backend LokyBackend with 2 concurrent workers.\n",
       "[Parallel(n_jobs=2)]: Done  46 tasks      | elapsed:   53.1s\n",
       "[Parallel(n_jobs=2)]: Done  80 out of  80 | elapsed:  1.8min finished\n",
       "XGBClassifier(base_score=0.5, booster=&#39;gbtree&#39;, colsample_bylevel=1,\n",
       "              colsample_bynode=1, colsample_bytree=1, gamma=0.2, gpu_id=-1,\n",
       "              importance_type=&#39;gain&#39;, interaction_constraints=&#39;&#39;,\n",
       "              learning_rate=0.1, max_delta_step=0, max_depth=3,\n",
       "              min_child_weight=3, missing=nan, monotone_constraints=&#39;()&#39;,\n",
       "              n_estimators=100, n_jobs=0, num_parallel_tree=1, random_state=1,\n",
       "              reg_alpha=0, reg_lambda=1, scale_pos_weight=1, subsample=1,\n",
       "              tree_method=&#39;exact&#39;, validate_parameters=1, verbosity=None)\n",
       "</div>"
      ]
     },
     "metadata": {},
     "output_type": "display_data"
    }
   ],
   "source": [
    "### define grid search parameters, using kfold 5\n",
    "def grid_search_xgboost(useful_columns,n_splits=5):\n",
    "    param_grid = {\"learning_rate\"    : [0.1] ,\n",
    "         \"max_depth\"        : [3,4,5,6],\n",
    "         \"min_child_weight\" : [3,4,5,6],\n",
    "         \"gamma\"            : [0.2],\n",
    "         \"random_state\" : [1]  }\n",
    "\n",
    "    X = X_train_s\n",
    "    Y = y_train_ros\n",
    "    groups = X.index.get_level_values(0)\n",
    "    model = XGBClassifier(n_estimators=100)\n",
    "    clf = GridSearchCV(model\n",
    "                       , param_grid\n",
    "                       , scoring=my_scorer\n",
    "#                        , scoring=\"f1\"\n",
    "                       , verbose = 1\n",
    "                       , n_jobs = 2\n",
    "                       , cv=GroupKFold(n_splits=5).get_n_splits(X, Y, groups))\n",
    "    clf.fit(X, Y)\n",
    "    return clf\n",
    "  \n",
    "clat = grid_search_xgboost(input_cols)\n",
    "\n",
    "print(clat.best_estimator_)"
   ]
  },
  {
   "cell_type": "code",
   "execution_count": 23,
   "metadata": {},
   "outputs": [
    {
     "data": {
      "text/html": [
       "<style scoped>\n",
       "  .ansiout {\n",
       "    display: block;\n",
       "    unicode-bidi: embed;\n",
       "    white-space: pre-wrap;\n",
       "    word-wrap: break-word;\n",
       "    word-break: break-all;\n",
       "    font-family: \"Source Code Pro\", \"Menlo\", monospace;;\n",
       "    font-size: 13px;\n",
       "    color: #555;\n",
       "    margin-left: 4px;\n",
       "    line-height: 19px;\n",
       "  }\n",
       "</style>\n",
       "<div class=\"ansiout\"></div>"
      ]
     },
     "metadata": {},
     "output_type": "display_data"
    }
   ],
   "source": [
    "xgb = clat.best_estimator_"
   ]
  },
  {
   "cell_type": "markdown",
   "metadata": {},
   "source": [
    "### Train Model and Save"
   ]
  },
  {
   "cell_type": "code",
   "execution_count": 24,
   "metadata": {},
   "outputs": [
    {
     "data": {
      "text/html": [
       "<style scoped>\n",
       "  .ansiout {\n",
       "    display: block;\n",
       "    unicode-bidi: embed;\n",
       "    white-space: pre-wrap;\n",
       "    word-wrap: break-word;\n",
       "    word-break: break-all;\n",
       "    font-family: \"Source Code Pro\", \"Menlo\", monospace;;\n",
       "    font-size: 13px;\n",
       "    color: #555;\n",
       "    margin-left: 4px;\n",
       "    line-height: 19px;\n",
       "  }\n",
       "</style>\n",
       "<div class=\"ansiout\"></div>"
      ]
     },
     "metadata": {},
     "output_type": "display_data"
    }
   ],
   "source": [
    "### model train using best estimator from grid search and save to filestore\n",
    "model = xgb.fit(X_train_s[input_cols], y_train_ros, verbose = True)"
   ]
  },
  {
   "cell_type": "code",
   "execution_count": 25,
   "metadata": {},
   "outputs": [
    {
     "data": {
      "text/html": [
       "<style scoped>\n",
       "  .ansiout {\n",
       "    display: block;\n",
       "    unicode-bidi: embed;\n",
       "    white-space: pre-wrap;\n",
       "    word-wrap: break-word;\n",
       "    word-break: break-all;\n",
       "    font-family: \"Source Code Pro\", \"Menlo\", monospace;;\n",
       "    font-size: 13px;\n",
       "    color: #555;\n",
       "    margin-left: 4px;\n",
       "    line-height: 19px;\n",
       "  }\n",
       "</style>\n",
       "<div class=\"ansiout\"></div>"
      ]
     },
     "metadata": {},
     "output_type": "display_data"
    }
   ],
   "source": [
    "pickle.dump(model, (open('/dbfs/FileStore/tubleak/TubingLeakModelRetrain_XGB_v4_auto_latestbatch.p', \"wb\")))  "
   ]
  },
  {
   "cell_type": "code",
   "execution_count": 26,
   "metadata": {},
   "outputs": [
    {
     "data": {
      "text/html": [
       "<style scoped>\n",
       "  .ansiout {\n",
       "    display: block;\n",
       "    unicode-bidi: embed;\n",
       "    white-space: pre-wrap;\n",
       "    word-wrap: break-word;\n",
       "    word-break: break-all;\n",
       "    font-family: \"Source Code Pro\", \"Menlo\", monospace;;\n",
       "    font-size: 13px;\n",
       "    color: #555;\n",
       "    margin-left: 4px;\n",
       "    line-height: 19px;\n",
       "  }\n",
       "</style>\n",
       "<div class=\"ansiout\"></div>"
      ]
     },
     "metadata": {},
     "output_type": "display_data"
    }
   ],
   "source": [
    "model = pickle.load(open('/dbfs/FileStore/tubleak/TubingLeakModelRetrain_XGB_v4_auto_latestbatch.p', \"rb\"))"
   ]
  },
  {
   "cell_type": "markdown",
   "metadata": {},
   "source": [
    "## Model Evaluation and Interpretation"
   ]
  },
  {
   "cell_type": "markdown",
   "metadata": {},
   "source": [
    "### Model Result Preparation"
   ]
  },
  {
   "cell_type": "code",
   "execution_count": 27,
   "metadata": {},
   "outputs": [
    {
     "data": {
      "text/html": [
       "<style scoped>\n",
       "  .ansiout {\n",
       "    display: block;\n",
       "    unicode-bidi: embed;\n",
       "    white-space: pre-wrap;\n",
       "    word-wrap: break-word;\n",
       "    word-break: break-all;\n",
       "    font-family: \"Source Code Pro\", \"Menlo\", monospace;;\n",
       "    font-size: 13px;\n",
       "    color: #555;\n",
       "    margin-left: 4px;\n",
       "    line-height: 19px;\n",
       "  }\n",
       "</style>\n",
       "<div class=\"ansiout\">         imp           feature name\n",
       "9   0.321393  x_fluidloadonpump_std\n",
       "0   0.159992  x_grosspumpstroke_std\n",
       "6   0.143821       x_maxrodload_std\n",
       "4   0.085489       x_curinfprod_std\n",
       "3   0.072138        x_fluidload_std\n",
       "2   0.066264          x_pumpfil_std\n",
       "1   0.058265          x_tubpres_std\n",
       "7   0.029932             x_mprl_std\n",
       "10  0.024886   x_pumpefficiency_std\n",
       "5   0.020064           x_pumphp_std\n",
       "8   0.017755          x_avgpprl_std\n",
       "16  0.000000        xMaxRodLoadFlag\n",
       "20  0.000000    xPumpEfficiencyFlag\n",
       "19  0.000000   xFluidLoadOnPumpFlag\n",
       "18  0.000000              xPPRLFlag\n",
       "17  0.000000              xMPRLFlag\n",
       "11  0.000000   xGrossPumpStrokeFlag\n",
       "15  0.000000        xCurInfProdFlag\n",
       "14  0.000000         xFluidLoadFlag\n",
       "13  0.000000       xPumpFillageFlag\n",
       "12  0.000000    xTubingPressureFlag\n",
       "21  0.000000            xPumpHPFlag\n",
       "</div>"
      ]
     },
     "metadata": {},
     "output_type": "display_data"
    }
   ],
   "source": [
    "fi = pd.DataFrame()\n",
    "#save feature importance\n",
    "fi['imp'] = model.feature_importances_\n",
    "fi['feature name'] = input_cols\n",
    "with pd.option_context('display.max_rows', None, 'display.max_columns', None):print(fi.sort_values(by=['imp'],ascending=False))"
   ]
  },
  {
   "cell_type": "code",
   "execution_count": 29,
   "metadata": {},
   "outputs": [
    {
     "data": {
      "text/html": [
       "<style scoped>\n",
       "  .ansiout {\n",
       "    display: block;\n",
       "    unicode-bidi: embed;\n",
       "    white-space: pre-wrap;\n",
       "    word-wrap: break-word;\n",
       "    word-break: break-all;\n",
       "    font-family: \"Source Code Pro\", \"Menlo\", monospace;;\n",
       "    font-size: 13px;\n",
       "    color: #555;\n",
       "    margin-left: 4px;\n",
       "    line-height: 19px;\n",
       "  }\n",
       "</style>\n",
       "<div class=\"ansiout\"></div>"
      ]
     },
     "metadata": {},
     "output_type": "display_data"
    }
   ],
   "source": [
    "testdataset = df[df.TestDataSet == 1][input_cols].reset_index(drop = True)\n",
    "pred_proba = model.predict_proba(testdataset[input_cols])[:, 1]\n",
    "result = df[df.TestDataSet == 1]"
   ]
  },
  {
   "cell_type": "code",
   "execution_count": 30,
   "metadata": {},
   "outputs": [
    {
     "data": {
      "text/html": [
       "<style scoped>\n",
       "  .ansiout {\n",
       "    display: block;\n",
       "    unicode-bidi: embed;\n",
       "    white-space: pre-wrap;\n",
       "    word-wrap: break-word;\n",
       "    word-break: break-all;\n",
       "    font-family: \"Source Code Pro\", \"Menlo\", monospace;;\n",
       "    font-size: 13px;\n",
       "    color: #555;\n",
       "    margin-left: 4px;\n",
       "    line-height: 19px;\n",
       "  }\n",
       "</style>\n",
       "<div class=\"ansiout\">\n",
       "A value is trying to be set on a copy of a slice from a DataFrame.\n",
       "Try using .loc[row_indexer,col_indexer] = value instead\n",
       "\n",
       "See the caveats in the documentation: https://pandas.pydata.org/pandas-docs/stable/user_guide/indexing.html#returning-a-view-versus-a-copy\n",
       "\n",
       "A value is trying to be set on a copy of a slice from a DataFrame.\n",
       "Try using .loc[row_indexer,col_indexer] = value instead\n",
       "\n",
       "See the caveats in the documentation: https://pandas.pydata.org/pandas-docs/stable/user_guide/indexing.html#returning-a-view-versus-a-copy\n",
       "</div>"
      ]
     },
     "metadata": {},
     "output_type": "display_data"
    }
   ],
   "source": [
    "result['Pred_prob'] = pred_proba\n",
    "result['caldate_date'] = pd.to_datetime(result['caldate']).dt.date"
   ]
  },
  {
   "cell_type": "code",
   "execution_count": 31,
   "metadata": {},
   "outputs": [
    {
     "data": {
      "text/html": [
       "<style scoped>\n",
       "  .ansiout {\n",
       "    display: block;\n",
       "    unicode-bidi: embed;\n",
       "    white-space: pre-wrap;\n",
       "    word-wrap: break-word;\n",
       "    word-break: break-all;\n",
       "    font-family: \"Source Code Pro\", \"Menlo\", monospace;;\n",
       "    font-size: 13px;\n",
       "    color: #555;\n",
       "    margin-left: 4px;\n",
       "    line-height: 19px;\n",
       "  }\n",
       "</style>\n",
       "<div class=\"ansiout\"></div>"
      ]
     },
     "metadata": {},
     "output_type": "display_data"
    }
   ],
   "source": [
    "result = result.reset_index(drop = True)\n",
    "test = pd.DataFrame(result.groupby(['pranumber','caldate_date'])['Pred_prob'].mean())\n",
    "test['flag_2days'] = result.groupby(['pranumber','caldate_date'])['flag_2days'].max()\n",
    "test['flag'] = result.groupby(['pranumber','caldate_date'])['flag'].max()\n",
    "test['wellname'] = result.groupby(['pranumber','caldate_date'])['wellname'].first()\n",
    "test['pranumber'] = result.groupby(['pranumber','caldate_date'])['pranumber'].first()\n",
    "test['Failure_2_days'] = result.groupby(['pranumber','caldate_date'])['Failure_2_days'].first()\n",
    "test['failure_flag_all'] = result.groupby(['pranumber','caldate_date'])['failure_flag_all'].first()\n",
    "test['caldate'] = result.groupby(['pranumber','caldate_date'])['caldate'].first()\n",
    "test['AnyFailureDay'] = result.groupby(['pranumber','caldate_date'])['AnyFailureDay'].max()\n",
    "test['month'] = pd.DatetimeIndex(test['caldate']).month\n",
    "test['Pred_Threshold'] = 0\n",
    "del fi, testdataset, result"
   ]
  },
  {
   "cell_type": "markdown",
   "metadata": {},
   "source": [
    "### Best Threshold Sweep for Optimized Economical Value"
   ]
  },
  {
   "cell_type": "code",
   "execution_count": 32,
   "metadata": {},
   "outputs": [
    {
     "data": {
      "text/html": [
       "<style scoped>\n",
       "  .ansiout {\n",
       "    display: block;\n",
       "    unicode-bidi: embed;\n",
       "    white-space: pre-wrap;\n",
       "    word-wrap: break-word;\n",
       "    word-break: break-all;\n",
       "    font-family: \"Source Code Pro\", \"Menlo\", monospace;;\n",
       "    font-size: 13px;\n",
       "    color: #555;\n",
       "    margin-left: 4px;\n",
       "    line-height: 19px;\n",
       "  }\n",
       "</style>\n",
       "<div class=\"ansiout\">Threshold at 0. 50 Total Failure Caught:  159 Total False Alert Days:  1190 value:  -1330600\n",
       "Threshold at 0. 51 Total Failure Caught:  157 Total False Alert Days:  1134 value:  -1231800\n",
       "Threshold at 0. 52 Total Failure Caught:  157 Total False Alert Days:  1086 value:  -1135800\n",
       "Threshold at 0. 53 Total Failure Caught:  157 Total False Alert Days:  1043 value:  -1049800\n",
       "Threshold at 0. 54 Total Failure Caught:  156 Total False Alert Days:  990 value:  -950400\n",
       "Threshold at 0. 55 Total Failure Caught:  154 Total False Alert Days:  941 value:  -865600\n",
       "Threshold at 0. 56 Total Failure Caught:  154 Total False Alert Days:  907 value:  -797600\n",
       "Threshold at 0. 57 Total Failure Caught:  151 Total False Alert Days:  858 value:  -719400\n",
       "Threshold at 0. 58 Total Failure Caught:  150 Total False Alert Days:  812 value:  -634000\n",
       "Threshold at 0. 59 Total Failure Caught:  148 Total False Alert Days:  774 value:  -571200\n",
       "Threshold at 0. 60 Total Failure Caught:  147 Total False Alert Days:  738 value:  -505800\n",
       "Threshold at 0. 61 Total Failure Caught:  146 Total False Alert Days:  708 value:  -452400\n",
       "Threshold at 0. 62 Total Failure Caught:  146 Total False Alert Days:  670 value:  -376400\n",
       "Threshold at 0. 63 Total Failure Caught:  145 Total False Alert Days:  651 value:  -345000\n",
       "Threshold at 0. 64 Total Failure Caught:  142 Total False Alert Days:  629 value:  -320800\n",
       "Threshold at 0. 65 Total Failure Caught:  141 Total False Alert Days:  612 value:  -293400\n",
       "Threshold at 0. 66 Total Failure Caught:  139 Total False Alert Days:  590 value:  -262600\n",
       "Threshold at 0. 67 Total Failure Caught:  138 Total False Alert Days:  561 value:  -211200\n",
       "Threshold at 0. 68 Total Failure Caught:  135 Total False Alert Days:  532 value:  -173000\n",
       "Threshold at 0. 69 Total Failure Caught:  134 Total False Alert Days:  514 value:  -143600\n",
       "Threshold at 0. 70 Total Failure Caught:  133 Total False Alert Days:  488 value:  -98200\n",
       "Threshold at 0. 71 Total Failure Caught:  131 Total False Alert Days:  456 value:  -47400\n",
       "Threshold at 0. 72 Total Failure Caught:  129 Total False Alert Days:  430 value:  -8600\n",
       "Threshold at 0. 73 Total Failure Caught:  127 Total False Alert Days:  399 value:  40200\n",
       "Threshold at 0. 74 Total Failure Caught:  127 Total False Alert Days:  362 value:  114200\n",
       "Threshold at 0. 75 Total Failure Caught:  124 Total False Alert Days:  327 value:  164400\n",
       "Threshold at 0. 76 Total Failure Caught:  123 Total False Alert Days:  306 value:  199800\n",
       "Threshold at 0. 77 Total Failure Caught:  120 Total False Alert Days:  282 value:  228000\n",
       "Threshold at 0. 78 Total Failure Caught:  118 Total False Alert Days:  259 value:  260800\n",
       "Threshold at 0. 79 Total Failure Caught:  115 Total False Alert Days:  236 value:  287000\n",
       "Threshold at 0. 80 Total Failure Caught:  112 Total False Alert Days:  208 value:  323200\n",
       "Threshold at 0. 81 Total Failure Caught:  106 Total False Alert Days:  193 value:  313600\n",
       "Threshold at 0. 82 Total Failure Caught:  105 Total False Alert Days:  175 value:  343000\n",
       "Threshold at 0. 83 Total Failure Caught:  100 Total False Alert Days:  151 value:  358000\n",
       "Threshold at 0. 84 Total Failure Caught:  94 Total False Alert Days:  129 value:  362400\n",
       "Threshold at 0. 85 Total Failure Caught:  91 Total False Alert Days:  121 value:  358600\n",
       "Threshold at 0. 86 Total Failure Caught:  85 Total False Alert Days:  106 value:  349000\n",
       "Threshold at 0. 87 Total Failure Caught:  78 Total False Alert Days:  93 value:  328800\n",
       "Threshold at 0. 88 Total Failure Caught:  70 Total False Alert Days:  74 value:  314000\n",
       "Threshold at 0. 89 Total Failure Caught:  64 Total False Alert Days:  62 value:  298400\n",
       "Threshold at 0. 90 Total Failure Caught:  60 Total False Alert Days:  51 value:  294000\n",
       "Threshold at 0. 91 Total Failure Caught:  48 Total False Alert Days:  41 value:  234800\n",
       "Threshold at 0. 92 Total Failure Caught:  41 Total False Alert Days:  34 value:  202600\n",
       "Threshold at 0. 93 Total Failure Caught:  38 Total False Alert Days:  25 value:  200800\n",
       "Threshold at 0. 94 Total Failure Caught:  32 Total False Alert Days:  20 value:  171200\n",
       "Threshold at 0. 95 Total Failure Caught:  21 Total False Alert Days:  8 value:  122600\n",
       "Threshold at 0. 96 Total Failure Caught:  8 Total False Alert Days:  4 value:  44800\n",
       "Best: 0.84 54 242 296\n",
       "</div>"
      ]
     },
     "metadata": {},
     "output_type": "display_data"
    }
   ],
   "source": [
    "#create unique identifier for pra number failing and pra number failing flag\n",
    "test['pranfail'] = test['wellname'].astype(str) + test['Failure_2_days'].astype(str)+test['caldate'].astype(str)\n",
    "test['pranfail_f'] = test['wellname'].astype(str) + test['Failure_2_days'].astype(str)\n",
    "\n",
    "#run best threshold sweeping based on economic value and cost\n",
    "BestThreshold = 0\n",
    "BestValue = 0 \n",
    "BestTP = 0\n",
    "BestFP = 0\n",
    "TotalPrediction = 0\n",
    "tp_value=6600  ### previously used in ln(20)\n",
    "fp_cost=-2000\n",
    "sweep = pd.DataFrame(columns = ['Threshold','Total Failure Caught','Total False Alert Days','value'])\n",
    "a = []\n",
    "b = []\n",
    "c = []\n",
    "d = []\n",
    "\n",
    "for i in range (50,97,1):\n",
    "    test['Pred_Threshold'] = 0\n",
    "    Threshold = i/100\n",
    "    test.loc[(test.Pred_prob >= Threshold), 'Pred_Threshold'] = 1  \n",
    "    TP = test[(test.flag_2days == 1) & (test.Pred_Threshold == 1)].pranfail.nunique()\n",
    "    FP = test[(test.AnyFailureDay == 0) & (test.Pred_Threshold == 1)].pranfail.nunique()\n",
    "    \n",
    "    test['Truesum'] = 0 \n",
    "    test['trued'] = 0\n",
    "    test['caldate'] = pd.to_datetime(test['caldate']).dt.date\n",
    "    test.loc[(test.failure_flag_all == 1) & (test.Pred_Threshold == 1),'Truesum'] = 1\n",
    "    test.loc[(test.AnyFailureDay == 1) & (test.Pred_Threshold == 1),'trued'] = 1\n",
    "    Truesum = test['Truesum'].sum()\n",
    "    trued = test['trued'].sum()\n",
    "\n",
    "    FailureCaught = test[(test.failure_flag_all == 1) & (test.Pred_Threshold == 1)].pranfail_f.nunique()\n",
    "    FalseAlertDays = test[(test.failure_flag_all == 0) & (test.Pred_Threshold == 1)].pranfail.nunique()\n",
    "    print('Threshold at 0.', i,'Total Failure Caught: ', FailureCaught,'Total False Alert Days: ', FalseAlertDays,'value: ',FailureCaught*tp_value+FalseAlertDays*fp_cost)\n",
    "\n",
    "    value =FailureCaught*tp_value+FalseAlertDays*fp_cost\n",
    "    a.append(i)\n",
    "    b.append(FailureCaught)\n",
    "    c.append(FalseAlertDays)\n",
    "    d.append(FailureCaught*tp_value+FalseAlertDays*fp_cost)\n",
    "\n",
    "    if value >= BestValue:\n",
    "        BestThreshold = Threshold\n",
    "        BestValue = value\n",
    "        BestTP = TP\n",
    "        BestFP = FP\n",
    "        TotalPrediction = TP+FP\n",
    "\n",
    "print('Best:',BestThreshold,BestTP,BestFP,TotalPrediction)"
   ]
  },
  {
   "cell_type": "code",
   "execution_count": 33,
   "metadata": {},
   "outputs": [
    {
     "data": {
      "text/html": [
       "<div>\n",
       "<style scoped>\n",
       "    .dataframe tbody tr th:only-of-type {\n",
       "        vertical-align: middle;\n",
       "    }\n",
       "\n",
       "    .dataframe tbody tr th {\n",
       "        vertical-align: top;\n",
       "    }\n",
       "\n",
       "    .dataframe thead th {\n",
       "        text-align: right;\n",
       "    }\n",
       "</style>\n",
       "<table border=\"1\" class=\"dataframe\">\n",
       "  <thead>\n",
       "    <tr style=\"text-align: right;\">\n",
       "      <th></th>\n",
       "      <th>Threshold</th>\n",
       "      <th>Total Failure Caught</th>\n",
       "      <th>Total False Alert Days</th>\n",
       "      <th>value</th>\n",
       "    </tr>\n",
       "  </thead>\n",
       "  <tbody>\n",
       "    <tr>\n",
       "      <th>0</th>\n",
       "      <td>50</td>\n",
       "      <td>159</td>\n",
       "      <td>1190</td>\n",
       "      <td>-1330600</td>\n",
       "    </tr>\n",
       "    <tr>\n",
       "      <th>1</th>\n",
       "      <td>51</td>\n",
       "      <td>157</td>\n",
       "      <td>1134</td>\n",
       "      <td>-1231800</td>\n",
       "    </tr>\n",
       "    <tr>\n",
       "      <th>2</th>\n",
       "      <td>52</td>\n",
       "      <td>157</td>\n",
       "      <td>1086</td>\n",
       "      <td>-1135800</td>\n",
       "    </tr>\n",
       "    <tr>\n",
       "      <th>3</th>\n",
       "      <td>53</td>\n",
       "      <td>157</td>\n",
       "      <td>1043</td>\n",
       "      <td>-1049800</td>\n",
       "    </tr>\n",
       "    <tr>\n",
       "      <th>4</th>\n",
       "      <td>54</td>\n",
       "      <td>156</td>\n",
       "      <td>990</td>\n",
       "      <td>-950400</td>\n",
       "    </tr>\n",
       "    <tr>\n",
       "      <th>5</th>\n",
       "      <td>55</td>\n",
       "      <td>154</td>\n",
       "      <td>941</td>\n",
       "      <td>-865600</td>\n",
       "    </tr>\n",
       "    <tr>\n",
       "      <th>6</th>\n",
       "      <td>56</td>\n",
       "      <td>154</td>\n",
       "      <td>907</td>\n",
       "      <td>-797600</td>\n",
       "    </tr>\n",
       "    <tr>\n",
       "      <th>7</th>\n",
       "      <td>57</td>\n",
       "      <td>151</td>\n",
       "      <td>858</td>\n",
       "      <td>-719400</td>\n",
       "    </tr>\n",
       "    <tr>\n",
       "      <th>8</th>\n",
       "      <td>58</td>\n",
       "      <td>150</td>\n",
       "      <td>812</td>\n",
       "      <td>-634000</td>\n",
       "    </tr>\n",
       "    <tr>\n",
       "      <th>9</th>\n",
       "      <td>59</td>\n",
       "      <td>148</td>\n",
       "      <td>774</td>\n",
       "      <td>-571200</td>\n",
       "    </tr>\n",
       "    <tr>\n",
       "      <th>10</th>\n",
       "      <td>60</td>\n",
       "      <td>147</td>\n",
       "      <td>738</td>\n",
       "      <td>-505800</td>\n",
       "    </tr>\n",
       "    <tr>\n",
       "      <th>11</th>\n",
       "      <td>61</td>\n",
       "      <td>146</td>\n",
       "      <td>708</td>\n",
       "      <td>-452400</td>\n",
       "    </tr>\n",
       "    <tr>\n",
       "      <th>12</th>\n",
       "      <td>62</td>\n",
       "      <td>146</td>\n",
       "      <td>670</td>\n",
       "      <td>-376400</td>\n",
       "    </tr>\n",
       "    <tr>\n",
       "      <th>13</th>\n",
       "      <td>63</td>\n",
       "      <td>145</td>\n",
       "      <td>651</td>\n",
       "      <td>-345000</td>\n",
       "    </tr>\n",
       "    <tr>\n",
       "      <th>14</th>\n",
       "      <td>64</td>\n",
       "      <td>142</td>\n",
       "      <td>629</td>\n",
       "      <td>-320800</td>\n",
       "    </tr>\n",
       "    <tr>\n",
       "      <th>15</th>\n",
       "      <td>65</td>\n",
       "      <td>141</td>\n",
       "      <td>612</td>\n",
       "      <td>-293400</td>\n",
       "    </tr>\n",
       "    <tr>\n",
       "      <th>16</th>\n",
       "      <td>66</td>\n",
       "      <td>139</td>\n",
       "      <td>590</td>\n",
       "      <td>-262600</td>\n",
       "    </tr>\n",
       "    <tr>\n",
       "      <th>17</th>\n",
       "      <td>67</td>\n",
       "      <td>138</td>\n",
       "      <td>561</td>\n",
       "      <td>-211200</td>\n",
       "    </tr>\n",
       "    <tr>\n",
       "      <th>18</th>\n",
       "      <td>68</td>\n",
       "      <td>135</td>\n",
       "      <td>532</td>\n",
       "      <td>-173000</td>\n",
       "    </tr>\n",
       "    <tr>\n",
       "      <th>19</th>\n",
       "      <td>69</td>\n",
       "      <td>134</td>\n",
       "      <td>514</td>\n",
       "      <td>-143600</td>\n",
       "    </tr>\n",
       "    <tr>\n",
       "      <th>20</th>\n",
       "      <td>70</td>\n",
       "      <td>133</td>\n",
       "      <td>488</td>\n",
       "      <td>-98200</td>\n",
       "    </tr>\n",
       "    <tr>\n",
       "      <th>21</th>\n",
       "      <td>71</td>\n",
       "      <td>131</td>\n",
       "      <td>456</td>\n",
       "      <td>-47400</td>\n",
       "    </tr>\n",
       "    <tr>\n",
       "      <th>22</th>\n",
       "      <td>72</td>\n",
       "      <td>129</td>\n",
       "      <td>430</td>\n",
       "      <td>-8600</td>\n",
       "    </tr>\n",
       "    <tr>\n",
       "      <th>23</th>\n",
       "      <td>73</td>\n",
       "      <td>127</td>\n",
       "      <td>399</td>\n",
       "      <td>40200</td>\n",
       "    </tr>\n",
       "    <tr>\n",
       "      <th>24</th>\n",
       "      <td>74</td>\n",
       "      <td>127</td>\n",
       "      <td>362</td>\n",
       "      <td>114200</td>\n",
       "    </tr>\n",
       "    <tr>\n",
       "      <th>25</th>\n",
       "      <td>75</td>\n",
       "      <td>124</td>\n",
       "      <td>327</td>\n",
       "      <td>164400</td>\n",
       "    </tr>\n",
       "    <tr>\n",
       "      <th>26</th>\n",
       "      <td>76</td>\n",
       "      <td>123</td>\n",
       "      <td>306</td>\n",
       "      <td>199800</td>\n",
       "    </tr>\n",
       "    <tr>\n",
       "      <th>27</th>\n",
       "      <td>77</td>\n",
       "      <td>120</td>\n",
       "      <td>282</td>\n",
       "      <td>228000</td>\n",
       "    </tr>\n",
       "    <tr>\n",
       "      <th>28</th>\n",
       "      <td>78</td>\n",
       "      <td>118</td>\n",
       "      <td>259</td>\n",
       "      <td>260800</td>\n",
       "    </tr>\n",
       "    <tr>\n",
       "      <th>29</th>\n",
       "      <td>79</td>\n",
       "      <td>115</td>\n",
       "      <td>236</td>\n",
       "      <td>287000</td>\n",
       "    </tr>\n",
       "    <tr>\n",
       "      <th>30</th>\n",
       "      <td>80</td>\n",
       "      <td>112</td>\n",
       "      <td>208</td>\n",
       "      <td>323200</td>\n",
       "    </tr>\n",
       "    <tr>\n",
       "      <th>31</th>\n",
       "      <td>81</td>\n",
       "      <td>106</td>\n",
       "      <td>193</td>\n",
       "      <td>313600</td>\n",
       "    </tr>\n",
       "    <tr>\n",
       "      <th>32</th>\n",
       "      <td>82</td>\n",
       "      <td>105</td>\n",
       "      <td>175</td>\n",
       "      <td>343000</td>\n",
       "    </tr>\n",
       "    <tr>\n",
       "      <th>33</th>\n",
       "      <td>83</td>\n",
       "      <td>100</td>\n",
       "      <td>151</td>\n",
       "      <td>358000</td>\n",
       "    </tr>\n",
       "    <tr>\n",
       "      <th>34</th>\n",
       "      <td>84</td>\n",
       "      <td>94</td>\n",
       "      <td>129</td>\n",
       "      <td>362400</td>\n",
       "    </tr>\n",
       "    <tr>\n",
       "      <th>35</th>\n",
       "      <td>85</td>\n",
       "      <td>91</td>\n",
       "      <td>121</td>\n",
       "      <td>358600</td>\n",
       "    </tr>\n",
       "    <tr>\n",
       "      <th>36</th>\n",
       "      <td>86</td>\n",
       "      <td>85</td>\n",
       "      <td>106</td>\n",
       "      <td>349000</td>\n",
       "    </tr>\n",
       "    <tr>\n",
       "      <th>37</th>\n",
       "      <td>87</td>\n",
       "      <td>78</td>\n",
       "      <td>93</td>\n",
       "      <td>328800</td>\n",
       "    </tr>\n",
       "    <tr>\n",
       "      <th>38</th>\n",
       "      <td>88</td>\n",
       "      <td>70</td>\n",
       "      <td>74</td>\n",
       "      <td>314000</td>\n",
       "    </tr>\n",
       "    <tr>\n",
       "      <th>39</th>\n",
       "      <td>89</td>\n",
       "      <td>64</td>\n",
       "      <td>62</td>\n",
       "      <td>298400</td>\n",
       "    </tr>\n",
       "    <tr>\n",
       "      <th>40</th>\n",
       "      <td>90</td>\n",
       "      <td>60</td>\n",
       "      <td>51</td>\n",
       "      <td>294000</td>\n",
       "    </tr>\n",
       "    <tr>\n",
       "      <th>41</th>\n",
       "      <td>91</td>\n",
       "      <td>48</td>\n",
       "      <td>41</td>\n",
       "      <td>234800</td>\n",
       "    </tr>\n",
       "    <tr>\n",
       "      <th>42</th>\n",
       "      <td>92</td>\n",
       "      <td>41</td>\n",
       "      <td>34</td>\n",
       "      <td>202600</td>\n",
       "    </tr>\n",
       "    <tr>\n",
       "      <th>43</th>\n",
       "      <td>93</td>\n",
       "      <td>38</td>\n",
       "      <td>25</td>\n",
       "      <td>200800</td>\n",
       "    </tr>\n",
       "    <tr>\n",
       "      <th>44</th>\n",
       "      <td>94</td>\n",
       "      <td>32</td>\n",
       "      <td>20</td>\n",
       "      <td>171200</td>\n",
       "    </tr>\n",
       "    <tr>\n",
       "      <th>45</th>\n",
       "      <td>95</td>\n",
       "      <td>21</td>\n",
       "      <td>8</td>\n",
       "      <td>122600</td>\n",
       "    </tr>\n",
       "    <tr>\n",
       "      <th>46</th>\n",
       "      <td>96</td>\n",
       "      <td>8</td>\n",
       "      <td>4</td>\n",
       "      <td>44800</td>\n",
       "    </tr>\n",
       "  </tbody>\n",
       "</table>\n",
       "</div>"
      ]
     },
     "metadata": {},
     "output_type": "display_data"
    }
   ],
   "source": [
    "# print sweep results \n",
    "sweep = pd.DataFrame({'Threshold': a, 'Total Failure Caught': b,'Total False Alert Days': c,'value': d})\n",
    "sweep"
   ]
  },
  {
   "cell_type": "code",
   "execution_count": 34,
   "metadata": {},
   "outputs": [
    {
     "data": {
      "text/html": [
       "<style scoped>\n",
       "  .ansiout {\n",
       "    display: block;\n",
       "    unicode-bidi: embed;\n",
       "    white-space: pre-wrap;\n",
       "    word-wrap: break-word;\n",
       "    word-break: break-all;\n",
       "    font-family: \"Source Code Pro\", \"Menlo\", monospace;;\n",
       "    font-size: 13px;\n",
       "    color: #555;\n",
       "    margin-left: 4px;\n",
       "    line-height: 19px;\n",
       "  }\n",
       "</style>\n",
       "<div class=\"ansiout\">0.84 362400 54 242 296\n",
       "Value per prediction : 1224.3243243243244\n",
       "</div>"
      ]
     },
     "metadata": {},
     "output_type": "display_data"
    }
   ],
   "source": [
    "print(BestThreshold,BestValue,BestTP,BestFP,TotalPrediction)\n",
    "print('Value per prediction :', BestValue/TotalPrediction) "
   ]
  },
  {
   "cell_type": "code",
   "execution_count": 35,
   "metadata": {},
   "outputs": [
    {
     "data": {
      "text/html": [
       "<style scoped>\n",
       "  .ansiout {\n",
       "    display: block;\n",
       "    unicode-bidi: embed;\n",
       "    white-space: pre-wrap;\n",
       "    word-wrap: break-word;\n",
       "    word-break: break-all;\n",
       "    font-family: \"Source Code Pro\", \"Menlo\", monospace;;\n",
       "    font-size: 13px;\n",
       "    color: #555;\n",
       "    margin-left: 4px;\n",
       "    line-height: 19px;\n",
       "  }\n",
       "</style>\n",
       "<div class=\"ansiout\"></div>"
      ]
     },
     "metadata": {},
     "output_type": "display_data"
    }
   ],
   "source": [
    "# save best threshold result\n",
    "test['Pred_Threshold'] = 0\n",
    "Threshold = BestThreshold\n",
    "test.loc[(test.Pred_prob >= Threshold), 'Pred_Threshold'] = 1"
   ]
  },
  {
   "cell_type": "markdown",
   "metadata": {},
   "source": [
    "### Model Result for Well Level and Daily Comparison"
   ]
  },
  {
   "cell_type": "code",
   "execution_count": 36,
   "metadata": {},
   "outputs": [
    {
     "data": {
      "text/html": [
       "<style scoped>\n",
       "  .ansiout {\n",
       "    display: block;\n",
       "    unicode-bidi: embed;\n",
       "    white-space: pre-wrap;\n",
       "    word-wrap: break-word;\n",
       "    word-break: break-all;\n",
       "    font-family: \"Source Code Pro\", \"Menlo\", monospace;;\n",
       "    font-size: 13px;\n",
       "    color: #555;\n",
       "    margin-left: 4px;\n",
       "    line-height: 19px;\n",
       "  }\n",
       "</style>\n",
       "<div class=\"ansiout\"></div>"
      ]
     },
     "metadata": {},
     "output_type": "display_data"
    }
   ],
   "source": [
    "# evulate result at daily and well level for score card\n",
    "DailyLevel = test.reset_index(drop = True)\n",
    "DailyLevel['month'] = pd.DatetimeIndex(DailyLevel['caldate']).month\n",
    "WL = pd.DataFrame(DailyLevel.groupby(['pranumber','Failure_2_days'])['Failure_2_days'].first())\n",
    "WL['failure_flag_all'] = DailyLevel.groupby(['pranumber','Failure_2_days'])['failure_flag_all'].max()\n",
    "WL['flag_2days'] = DailyLevel.groupby(['pranumber','Failure_2_days'])['flag_2days'].max()\n",
    "WL['flag'] = DailyLevel.groupby(['pranumber','Failure_2_days'])['flag'].max()\n",
    "WL['AnyFailureDay'] = DailyLevel.groupby(['pranumber','Failure_2_days'])['AnyFailureDay'].max()\n",
    "WL['wellname'] = DailyLevel.groupby(['pranumber','Failure_2_days'])['wellname'].first()\n",
    "WL['Pred_Threshold'] = DailyLevel.groupby(['pranumber','Failure_2_days'])['Pred_Threshold'].max()\n",
    "WL['month'] = DailyLevel.groupby(['pranumber','Failure_2_days'])['month'].last()\n",
    "WL['TP'] = 0\n",
    "WL['FP'] = 0"
   ]
  },
  {
   "cell_type": "code",
   "execution_count": 37,
   "metadata": {},
   "outputs": [
    {
     "data": {
      "text/html": [
       "<style scoped>\n",
       "  .ansiout {\n",
       "    display: block;\n",
       "    unicode-bidi: embed;\n",
       "    white-space: pre-wrap;\n",
       "    word-wrap: break-word;\n",
       "    word-break: break-all;\n",
       "    font-family: \"Source Code Pro\", \"Menlo\", monospace;;\n",
       "    font-size: 13px;\n",
       "    color: #555;\n",
       "    margin-left: 4px;\n",
       "    line-height: 19px;\n",
       "  }\n",
       "</style>\n",
       "<div class=\"ansiout\">4135\n",
       "Total Failure+Well  1258\n",
       "Total Failure  288\n",
       "Total Failure Caught 110\n",
       "Total False Alert 54\n",
       "Total Tubing Failure +-48hr  50\n",
       "Total Failure Caught 30\n",
       "Total False Alert 134\n",
       "</div>"
      ]
     },
     "metadata": {},
     "output_type": "display_data"
    }
   ],
   "source": [
    "# calculate true and false postive based on customized requirement\n",
    "df['pranfail'] = df['pranumber'].astype(str) + df['Failure_2_days'].astype(str)\n",
    "print(df.pranfail.nunique())\n",
    "\n",
    "WL['pranfail'] = WL['wellname'].astype(str) + WL['Failure_2_days'].astype(str)\n",
    "print('Total Failure+Well ',WL.pranfail.nunique())\n",
    "print('Total Failure ',WL[WL.failure_flag_all == 1].pranfail.nunique())\n",
    "TP = WL[(WL.failure_flag_all == 1) & (WL.Pred_Threshold == 1)].pranfail.nunique()\n",
    "FP = WL[(WL.failure_flag_all == 0) & (WL.Pred_Threshold == 1)].pranfail.nunique()\n",
    "print('Total Failure Caught', WL[(WL.failure_flag_all == 1) & (WL.Pred_Threshold == 1)].pranfail.nunique())\n",
    "print('Total False Alert', WL[(WL.failure_flag_all == 0) & (WL.Pred_Threshold == 1)].pranfail.nunique())\n",
    "\n",
    "print('Total Tubing Failure +-48hr ',WL[WL.flag_2days == 1].pranfail.nunique())\n",
    "TP = WL[(WL.flag_2days == 1) & (WL.Pred_Threshold == 1)].pranfail.nunique()\n",
    "FP = WL[(WL.flag_2days == 0) & (WL.Pred_Threshold == 1)].pranfail.nunique()\n",
    "print('Total Failure Caught', WL[(WL.flag_2days == 1) & (WL.Pred_Threshold == 1)].pranfail.nunique())\n",
    "print('Total False Alert', WL[(WL.flag_2days == 0) & (WL.Pred_Threshold == 1)].pranfail.nunique())\n"
   ]
  },
  {
   "cell_type": "code",
   "execution_count": 38,
   "metadata": {},
   "outputs": [
    {
     "data": {
      "text/html": [
       "<style scoped>\n",
       "  .ansiout {\n",
       "    display: block;\n",
       "    unicode-bidi: embed;\n",
       "    white-space: pre-wrap;\n",
       "    word-wrap: break-word;\n",
       "    word-break: break-all;\n",
       "    font-family: \"Source Code Pro\", \"Menlo\", monospace;;\n",
       "    font-size: 13px;\n",
       "    color: #555;\n",
       "    margin-left: 4px;\n",
       "    line-height: 19px;\n",
       "  }\n",
       "</style>\n",
       "<div class=\"ansiout\">Total Failure+Well days  98046\n",
       "Total Failure Days  1136\n",
       "Total Failure Caught 168\n",
       "Total Failure Caught_failurelevel 94\n",
       "Total False Alert 129\n",
       "Total False Alert_failurelevel 77\n",
       "Total Tubing Failure Days +- 48hr  193\n",
       "Total Tubing Failure Caught 54\n",
       "Total Tubing Failure Caught_failurelevel 27\n",
       "Total Tubing False Alert 243\n",
       "Total Tubing False Alert_failurelevel 140\n",
       "</div>"
      ]
     },
     "metadata": {},
     "output_type": "display_data"
    }
   ],
   "source": [
    "# calculate score card at a daily level based on customized requirement\n",
    "DailyLevel['pranfail'] = DailyLevel['wellname'].astype(str) + DailyLevel['Failure_2_days'].astype(str)+DailyLevel['caldate'].astype(str)\n",
    "DailyLevel['pranfail_f'] = DailyLevel['wellname'].astype(str) + DailyLevel['Failure_2_days'].astype(str)\n",
    "print('Total Failure+Well days ',DailyLevel.pranfail.nunique())\n",
    "print('Total Failure Days ',DailyLevel[DailyLevel.failure_flag_all == 1].pranfail.nunique())\n",
    "TP = DailyLevel[(DailyLevel.failure_flag_all == 1) & (DailyLevel.Pred_Threshold == 1)].pranfail.nunique()\n",
    "FP = DailyLevel[(DailyLevel.failure_flag_all == 0) & (DailyLevel.Pred_Threshold == 1)].pranfail.nunique()\n",
    "print('Total Failure Caught', DailyLevel[(DailyLevel.failure_flag_all == 1) & (DailyLevel.Pred_Threshold == 1)].pranfail.nunique())\n",
    "print('Total Failure Caught_failurelevel', DailyLevel[(DailyLevel.failure_flag_all == 1) & (DailyLevel.Pred_Threshold == 1)].pranfail_f.nunique())\n",
    "print('Total False Alert', DailyLevel[(DailyLevel.failure_flag_all == 0) & (DailyLevel.Pred_Threshold == 1)].pranfail.nunique())\n",
    "print('Total False Alert_failurelevel', DailyLevel[(DailyLevel.failure_flag_all == 0) & (DailyLevel.Pred_Threshold == 1)].pranfail_f.nunique())\n",
    "\n",
    "print('Total Tubing Failure Days +- 48hr ',DailyLevel[DailyLevel.flag_2days == 1].pranfail.nunique())\n",
    "TP = DailyLevel[(DailyLevel.flag_2days == 1) & (DailyLevel.Pred_Threshold == 1)].pranfail.nunique()\n",
    "FP = DailyLevel[(DailyLevel.flag_2days == 0) & (DailyLevel.Pred_Threshold == 1)].pranfail.nunique()\n",
    "print('Total Tubing Failure Caught', DailyLevel[(DailyLevel.flag_2days == 1) & (DailyLevel.Pred_Threshold == 1)].pranfail.nunique())\n",
    "print('Total Tubing Failure Caught_failurelevel', DailyLevel[(DailyLevel.flag_2days == 1) & (DailyLevel.Pred_Threshold == 1)].pranfail_f.nunique())\n",
    "print('Total Tubing False Alert', DailyLevel[(DailyLevel.flag_2days == 0) & (DailyLevel.Pred_Threshold == 1)].pranfail.nunique())\n",
    "print('Total Tubing False Alert_failurelevel', DailyLevel[(DailyLevel.flag_2days == 0) & (DailyLevel.Pred_Threshold == 1)].pranfail_f.nunique())"
   ]
  },
  {
   "cell_type": "code",
   "execution_count": 39,
   "metadata": {},
   "outputs": [
    {
     "data": {
      "text/html": [
       "<style scoped>\n",
       "  .ansiout {\n",
       "    display: block;\n",
       "    unicode-bidi: embed;\n",
       "    white-space: pre-wrap;\n",
       "    word-wrap: break-word;\n",
       "    word-break: break-all;\n",
       "    font-family: \"Source Code Pro\", \"Menlo\", monospace;;\n",
       "    font-size: 13px;\n",
       "    color: #555;\n",
       "    margin-left: 4px;\n",
       "    line-height: 19px;\n",
       "  }\n",
       "</style>\n",
       "<div class=\"ansiout\">95\n",
       "</div>"
      ]
     },
     "metadata": {},
     "output_type": "display_data"
    }
   ],
   "source": [
    "##### False alert days calculation. If predicted 1, actual 0, and predictded more than 4 days prior to failure than false alert day\n",
    "DailyLevel['allFailure_rol'] = DailyLevel.groupby(['wellname'])['failure_flag_all'].shift(-2)\n",
    "print(DailyLevel[(DailyLevel.failure_flag_all == 0) & (DailyLevel.Pred_Threshold == 1) & (DailyLevel.allFailure_rol == 0)].pranfail.nunique())"
   ]
  },
  {
   "cell_type": "markdown",
   "metadata": {},
   "source": [
    "### New Model Score Card for Comparison"
   ]
  },
  {
   "cell_type": "code",
   "execution_count": 40,
   "metadata": {},
   "outputs": [
    {
     "data": {
      "text/html": [
       "<style scoped>\n",
       "  .ansiout {\n",
       "    display: block;\n",
       "    unicode-bidi: embed;\n",
       "    white-space: pre-wrap;\n",
       "    word-wrap: break-word;\n",
       "    word-break: break-all;\n",
       "    font-family: \"Source Code Pro\", \"Menlo\", monospace;;\n",
       "    font-size: 13px;\n",
       "    color: #555;\n",
       "    margin-left: 4px;\n",
       "    line-height: 19px;\n",
       "  }\n",
       "</style>\n",
       "<div class=\"ansiout\"></div>"
      ]
     },
     "metadata": {},
     "output_type": "display_data"
    }
   ],
   "source": [
    "ModelScore = pd.DataFrame(data = ['NewModel'])"
   ]
  },
  {
   "cell_type": "code",
   "execution_count": 41,
   "metadata": {},
   "outputs": [
    {
     "data": {
      "text/html": [
       "<style scoped>\n",
       "  .ansiout {\n",
       "    display: block;\n",
       "    unicode-bidi: embed;\n",
       "    white-space: pre-wrap;\n",
       "    word-wrap: break-word;\n",
       "    word-break: break-all;\n",
       "    font-family: \"Source Code Pro\", \"Menlo\", monospace;;\n",
       "    font-size: 13px;\n",
       "    color: #555;\n",
       "    margin-left: 4px;\n",
       "    line-height: 19px;\n",
       "  }\n",
       "</style>\n",
       "<div class=\"ansiout\">0.84 362400 54 242 296\n",
       "          0  Best Threshhold  ...   Value  TestStartDate\n",
       "0  NewModel             0.84  ...  413600     2020-07-13\n",
       "\n",
       "[1 rows x 8 columns]\n",
       "</div>"
      ]
     },
     "metadata": {},
     "output_type": "display_data"
    }
   ],
   "source": [
    "#Summarize New Model Results and Value\n",
    "print(BestThreshold,BestValue,BestTP,BestFP,TotalPrediction)\n",
    "\n",
    "\n",
    "ModelScore['Best Threshhold'] = BestThreshold\n",
    "ModelScore['TotalPrediction'] = TotalPrediction\n",
    "#### True prediction if predicted 1, actual (+/- 2 days) is 0 at a well/failure level. \n",
    "\n",
    "ModelScore['TotalFailure'] = WL[WL.failure_flag_all == 1].pranfail.nunique()\n",
    "\n",
    "##### False alert days calculation. If predicted 1, actual 0, and predictded more than 4 days prior to failure than false alert day\n",
    "ModelScore['TrueFailurePredicted'] =  DailyLevel[(DailyLevel.failure_flag_all == 1) & (DailyLevel.Pred_Threshold == 1)].pranfail_f.nunique()\n",
    "\n",
    "ModelScore['FalseAlertDays'] = DailyLevel[(DailyLevel.failure_flag_all == 0) & (DailyLevel.Pred_Threshold == 1) & (DailyLevel.allFailure_rol == 0)].pranfail.nunique()\n",
    "ModelScore['Value'] = ModelScore['TrueFailurePredicted']* 6600 + ModelScore['TrueFailurePredicted']*-2200\n",
    "ModelScore['TestStartDate'] =  DailyLevel.caldate.min()\n",
    "ModelScore['TestStartDate'] =  DailyLevel.caldate.max()\n",
    "print(ModelScore)"
   ]
  },
  {
   "cell_type": "markdown",
   "metadata": {},
   "source": [
    "### Feature Importance Overview"
   ]
  },
  {
   "cell_type": "code",
   "execution_count": 42,
   "metadata": {},
   "outputs": [
    {
     "data": {
      "image/png": "[encoded data removed]"
     },
     "metadata": {},
     "output_type": "display_data"
    }
   ],
   "source": [
    "# Interpret and Present Feature Importance of the Model\n",
    "fig, ax = plt.subplots(1,1,figsize=(20,10))\n",
    "gain = xgboost.plot_importance(model, xlabel='gain', importance_type='gain',ax = ax)\n",
    "\n",
    "# weight = xgboost.plot_importance(model, xlabel= 'weight', importance_type='weight',ax = ax)\n",
    "# cover = xgboost.plot_importance(model, xlabel= 'cover', importance_type='cover',ax = ax)"
   ]
  },
  {
   "cell_type": "markdown",
   "metadata": {},
   "source": [
    "# Current Model Result_EBS Signal Score Card From Signals"
   ]
  },
  {
   "cell_type": "markdown",
   "metadata": {},
   "source": [
    "## Import Data from Microsoft Sql Server"
   ]
  },
  {
   "cell_type": "code",
   "execution_count": 47,
   "metadata": {},
   "outputs": [
    {
     "data": {
      "text/html": [
       "<style scoped>\n",
       "  .ansiout {\n",
       "    display: block;\n",
       "    unicode-bidi: embed;\n",
       "    white-space: pre-wrap;\n",
       "    word-wrap: break-word;\n",
       "    word-break: break-all;\n",
       "    font-family: \"Source Code Pro\", \"Menlo\", monospace;;\n",
       "    font-size: 13px;\n",
       "    color: #555;\n",
       "    margin-left: 4px;\n",
       "    line-height: 19px;\n",
       "  }\n",
       "</style>\n",
       "<div class=\"ansiout\"></div>"
      ]
     },
     "metadata": {},
     "output_type": "display_data"
    }
   ],
   "source": [
    "# import current prediction result in database\n",
    "driver = \"com.microsoft.sqlserver.jdbc.SQLServerDriver\"\n",
    "url = dbutils.secrets.get('ODS-Integration-KV','ODS-ConnectionString')\n",
    "\n",
    "table2 = \"\"\"(\n",
    "select m.wellname, \n",
    "cast(m.caldate as date) as caldate, \n",
    "month(m.caldate) as month, \n",
    "m.prob_tlf,\n",
    "cast(f.failure_date as date) as failure_date,\n",
    "case when f.failure_date is not null then 1 else 0 end as allFailure,\n",
    "case when Equipment_Failure_type  = 'Tubing' then 1 else 0 end as TubingFailure,\n",
    "batch_timestamp\n",
    "FROM [ana_ops].[v_TLF_ML_Prediction_Diag_EBS] m\n",
    "left join (\n",
    "select distinct pra_NO, Failure_Date, Equipment_Failure_type \n",
    "from [ana_ops].[v_wv_nd_wellfailure] where record_type = 'Primary' \n",
    ") f on f.pra_no = m.pranumber and abs(datediff(day,m.caldate,f.failure_date)) <=2\n",
    "where datediff(day,m.caldate,getdate()) <= 120\n",
    ") foo\"\"\"\n",
    "\n",
    "# spark.conf.set(\"spark.sql.legacy.allowCreatingManagedTableUsingNonemptyLocation\",\"true\")\n",
    "\n",
    "table2 = spark.read.format(\"jdbc\")\\\n",
    "  .option(\"driver\", driver)\\\n",
    "  .option(\"url\", url)\\\n",
    "  .option(\"dbtable\", table2)\\\n",
    "  .load()\n",
    "\n",
    "EBS = table2.toPandas()\n"
   ]
  },
  {
   "cell_type": "markdown",
   "metadata": {},
   "source": [
    "## Prepare Data for Score Card Calculation"
   ]
  },
  {
   "cell_type": "code",
   "execution_count": 48,
   "metadata": {},
   "outputs": [
    {
     "data": {
      "text/html": [
       "<style scoped>\n",
       "  .ansiout {\n",
       "    display: block;\n",
       "    unicode-bidi: embed;\n",
       "    white-space: pre-wrap;\n",
       "    word-wrap: break-word;\n",
       "    word-break: break-all;\n",
       "    font-family: \"Source Code Pro\", \"Menlo\", monospace;;\n",
       "    font-size: 13px;\n",
       "    color: #555;\n",
       "    margin-left: 4px;\n",
       "    line-height: 19px;\n",
       "  }\n",
       "</style>\n",
       "<div class=\"ansiout\"></div>"
      ]
     },
     "metadata": {},
     "output_type": "display_data"
    }
   ],
   "source": [
    "EBS= EBS.set_index(['wellname','batch_timestamp'],drop=False)\n",
    "EBS = EBS.sort_index()\n",
    "EBS.failure_date = EBS.groupby(EBS.index.get_level_values(0)).failure_date.bfill().fillna('Current Run')\n",
    "EBS = EBS.reset_index(drop = True)"
   ]
  },
  {
   "cell_type": "code",
   "execution_count": 49,
   "metadata": {},
   "outputs": [
    {
     "data": {
      "text/html": [
       "<style scoped>\n",
       "  .ansiout {\n",
       "    display: block;\n",
       "    unicode-bidi: embed;\n",
       "    white-space: pre-wrap;\n",
       "    word-wrap: break-word;\n",
       "    word-break: break-all;\n",
       "    font-family: \"Source Code Pro\", \"Menlo\", monospace;;\n",
       "    font-size: 13px;\n",
       "    color: #555;\n",
       "    margin-left: 4px;\n",
       "    line-height: 19px;\n",
       "  }\n",
       "</style>\n",
       "<div class=\"ansiout\"></div>"
      ]
     },
     "metadata": {},
     "output_type": "display_data"
    }
   ],
   "source": [
    "EBS = EBS.drop_duplicates(keep='last')"
   ]
  },
  {
   "cell_type": "code",
   "execution_count": 50,
   "metadata": {},
   "outputs": [
    {
     "data": {
      "text/html": [
       "<style scoped>\n",
       "  .ansiout {\n",
       "    display: block;\n",
       "    unicode-bidi: embed;\n",
       "    white-space: pre-wrap;\n",
       "    word-wrap: break-word;\n",
       "    word-break: break-all;\n",
       "    font-family: \"Source Code Pro\", \"Menlo\", monospace;;\n",
       "    font-size: 13px;\n",
       "    color: #555;\n",
       "    margin-left: 4px;\n",
       "    line-height: 19px;\n",
       "  }\n",
       "</style>\n",
       "<div class=\"ansiout\">Out[40]: (2203187, 8)</div>"
      ]
     },
     "metadata": {},
     "output_type": "display_data"
    }
   ],
   "source": [
    "EBS.shape"
   ]
  },
  {
   "cell_type": "code",
   "execution_count": 52,
   "metadata": {},
   "outputs": [
    {
     "data": {
      "text/html": [
       "<style scoped>\n",
       "  .ansiout {\n",
       "    display: block;\n",
       "    unicode-bidi: embed;\n",
       "    white-space: pre-wrap;\n",
       "    word-wrap: break-word;\n",
       "    word-break: break-all;\n",
       "    font-family: \"Source Code Pro\", \"Menlo\", monospace;;\n",
       "    font-size: 13px;\n",
       "    color: #555;\n",
       "    margin-left: 4px;\n",
       "    line-height: 19px;\n",
       "  }\n",
       "</style>\n",
       "<div class=\"ansiout\"></div>"
      ]
     },
     "metadata": {},
     "output_type": "display_data"
    }
   ],
   "source": [
    "# calculated required information\n",
    "EBStest = pd.DataFrame(EBS.groupby(['wellname','caldate'])['prob_tlf'].mean())\n",
    "EBStest['allFailure'] = EBS.groupby(['wellname','caldate'])['allFailure'].max()\n",
    "EBStest['failure_date'] = EBS.groupby(['wellname','caldate'])['failure_date'].first()\n",
    "EBStest['TubingFailure'] = EBS.groupby(['wellname','caldate'])['TubingFailure'].max()\n",
    "EBStest['wellname'] = EBS.groupby(['wellname','caldate'])['wellname'].first()\n",
    "EBStest['caldate'] = EBS.groupby(['wellname','caldate'])['caldate'].first()\n",
    "EBStest['Pred_Threshold'] =0\n",
    "EBStest.loc[(EBStest.prob_tlf >= 0.89), 'Pred_Threshold'] = 1"
   ]
  },
  {
   "cell_type": "code",
   "execution_count": 53,
   "metadata": {
    "scrolled": true
   },
   "outputs": [
    {
     "data": {
      "text/html": [
       "<div>\n",
       "<style scoped>\n",
       "    .dataframe tbody tr th:only-of-type {\n",
       "        vertical-align: middle;\n",
       "    }\n",
       "\n",
       "    .dataframe tbody tr th {\n",
       "        vertical-align: top;\n",
       "    }\n",
       "\n",
       "    .dataframe thead th {\n",
       "        text-align: right;\n",
       "    }\n",
       "</style>\n",
       "<table border=\"1\" class=\"dataframe\">\n",
       "  <thead>\n",
       "    <tr style=\"text-align: right;\">\n",
       "      <th></th>\n",
       "      <th></th>\n",
       "      <th>prob_tlf</th>\n",
       "      <th>allFailure</th>\n",
       "      <th>failure_date</th>\n",
       "      <th>TubingFailure</th>\n",
       "      <th>wellname</th>\n",
       "      <th>caldate</th>\n",
       "      <th>Pred_Threshold</th>\n",
       "    </tr>\n",
       "    <tr>\n",
       "      <th>wellname</th>\n",
       "      <th>caldate</th>\n",
       "      <th></th>\n",
       "      <th></th>\n",
       "      <th></th>\n",
       "      <th></th>\n",
       "      <th></th>\n",
       "      <th></th>\n",
       "      <th></th>\n",
       "    </tr>\n",
       "  </thead>\n",
       "  <tbody>\n",
       "    <tr>\n",
       "      <th rowspan=\"5\" valign=\"top\">WEYRAUCH 15-11H</th>\n",
       "      <th>2020-06-23</th>\n",
       "      <td>0.120577</td>\n",
       "      <td>0</td>\n",
       "      <td>Current Run</td>\n",
       "      <td>0</td>\n",
       "      <td>WEYRAUCH 15-11H</td>\n",
       "      <td>2020-06-23</td>\n",
       "      <td>0</td>\n",
       "    </tr>\n",
       "    <tr>\n",
       "      <th>2020-06-24</th>\n",
       "      <td>0.131249</td>\n",
       "      <td>0</td>\n",
       "      <td>Current Run</td>\n",
       "      <td>0</td>\n",
       "      <td>WEYRAUCH 15-11H</td>\n",
       "      <td>2020-06-24</td>\n",
       "      <td>0</td>\n",
       "    </tr>\n",
       "    <tr>\n",
       "      <th>2020-06-25</th>\n",
       "      <td>0.072772</td>\n",
       "      <td>0</td>\n",
       "      <td>Current Run</td>\n",
       "      <td>0</td>\n",
       "      <td>WEYRAUCH 15-11H</td>\n",
       "      <td>2020-06-25</td>\n",
       "      <td>0</td>\n",
       "    </tr>\n",
       "    <tr>\n",
       "      <th>2020-07-11</th>\n",
       "      <td>0.259912</td>\n",
       "      <td>0</td>\n",
       "      <td>Current Run</td>\n",
       "      <td>0</td>\n",
       "      <td>WEYRAUCH 15-11H</td>\n",
       "      <td>2020-07-11</td>\n",
       "      <td>0</td>\n",
       "    </tr>\n",
       "    <tr>\n",
       "      <th>2020-07-13</th>\n",
       "      <td>0.678801</td>\n",
       "      <td>0</td>\n",
       "      <td>Current Run</td>\n",
       "      <td>0</td>\n",
       "      <td>WEYRAUCH 15-11H</td>\n",
       "      <td>2020-07-13</td>\n",
       "      <td>0</td>\n",
       "    </tr>\n",
       "  </tbody>\n",
       "</table>\n",
       "</div>"
      ]
     },
     "metadata": {},
     "output_type": "display_data"
    }
   ],
   "source": [
    "EBStest.tail(5)"
   ]
  },
  {
   "cell_type": "markdown",
   "metadata": {},
   "source": [
    "## Calculate Current Score Card "
   ]
  },
  {
   "cell_type": "code",
   "execution_count": 54,
   "metadata": {},
   "outputs": [
    {
     "data": {
      "text/html": [
       "<style scoped>\n",
       "  .ansiout {\n",
       "    display: block;\n",
       "    unicode-bidi: embed;\n",
       "    white-space: pre-wrap;\n",
       "    word-wrap: break-word;\n",
       "    word-break: break-all;\n",
       "    font-family: \"Source Code Pro\", \"Menlo\", monospace;;\n",
       "    font-size: 13px;\n",
       "    color: #555;\n",
       "    margin-left: 4px;\n",
       "    line-height: 19px;\n",
       "  }\n",
       "</style>\n",
       "<div class=\"ansiout\">Total Failure+Well days 98929\n",
       "Total Failure Days  840\n",
       "Total Failure Caught 78\n",
       "Total Failure Caught_failurelevel 52\n",
       "Total False Alert 99\n",
       "Total False Alert_failurelevel 48\n",
       "Total Tubing Failure Days +- 48hr  154\n",
       "Total Tubing Failure Caught 30\n",
       "Total Tubing Failure Caught_failurelevel 18\n",
       "Total Tubing False Alert 147\n",
       "Total Tubing False Alert_failurelevel 81\n",
       "</div>"
      ]
     },
     "metadata": {},
     "output_type": "display_data"
    }
   ],
   "source": [
    "# calculate current score with customized TP and FP\n",
    "EBStest['pranfail'] = EBStest['wellname'].astype(str) + EBStest['failure_date'].astype(str)+EBStest['caldate'].astype(str)\n",
    "EBStest['pranfail_f'] = EBStest['wellname'].astype(str) + EBStest['failure_date'].astype(str)\n",
    "print('Total Failure+Well days',EBStest.pranfail.nunique())\n",
    "print('Total Failure Days ',EBStest[EBStest.allFailure == 1].pranfail.nunique())\n",
    "TP = EBStest[(EBStest.allFailure == 1) & (EBStest.Pred_Threshold == 1)].pranfail.nunique()\n",
    "FP = EBStest[(EBStest.allFailure == 0) & (EBStest.Pred_Threshold == 1)].pranfail.nunique()\n",
    "print('Total Failure Caught', TP)\n",
    "print('Total Failure Caught_failurelevel', EBStest[(EBStest.allFailure == 1) & (EBStest.Pred_Threshold == 1)].pranfail_f.nunique())\n",
    "print('Total False Alert', FP)\n",
    "print('Total False Alert_failurelevel', EBStest[(EBStest.allFailure == 0) & (EBStest.Pred_Threshold == 1)].pranfail_f.nunique())\n",
    "\n",
    "print('Total Tubing Failure Days +- 48hr ',EBStest[EBStest.TubingFailure == 1].pranfail.nunique())\n",
    "TP = EBStest[(EBStest.TubingFailure == 1) & (EBStest.Pred_Threshold == 1)].pranfail.nunique()\n",
    "FP = EBStest[(EBStest.TubingFailure== 0) & (EBStest.Pred_Threshold == 1)].pranfail.nunique()\n",
    "print('Total Tubing Failure Caught', TP)\n",
    "print('Total Tubing Failure Caught_failurelevel', EBStest[(EBStest.TubingFailure == 1) & (EBStest.Pred_Threshold == 1)].pranfail_f.nunique())\n",
    "print('Total Tubing False Alert', FP)\n",
    "print('Total Tubing False Alert_failurelevel', EBStest[(EBStest.TubingFailure == 0) & (EBStest.Pred_Threshold == 1)].pranfail_f.nunique())\n"
   ]
  },
  {
   "cell_type": "code",
   "execution_count": 55,
   "metadata": {},
   "outputs": [
    {
     "data": {
      "text/html": [
       "<style scoped>\n",
       "  .ansiout {\n",
       "    display: block;\n",
       "    unicode-bidi: embed;\n",
       "    white-space: pre-wrap;\n",
       "    word-wrap: break-word;\n",
       "    word-break: break-all;\n",
       "    font-family: \"Source Code Pro\", \"Menlo\", monospace;;\n",
       "    font-size: 13px;\n",
       "    color: #555;\n",
       "    margin-left: 4px;\n",
       "    line-height: 19px;\n",
       "  }\n",
       "</style>\n",
       "<div class=\"ansiout\">Total Failure+Well 1335\n",
       "Total All Failure  282\n",
       "Total All Failure Caught 62\n",
       "Total All False Alert 37\n",
       "Total Tubing Failure  52\n",
       "Total Tubing Failure Caught 19\n",
       "Total Tubing False Alert 80\n",
       "</div>"
      ]
     },
     "metadata": {},
     "output_type": "display_data"
    }
   ],
   "source": [
    "# calculate score card at a well level\n",
    "EBStest = EBStest.reset_index(drop = True)\n",
    "WL = pd.DataFrame(EBStest.groupby(['wellname','failure_date'])['failure_date'].first())\n",
    "WL['failure_flag_all'] = EBStest.groupby(['wellname','failure_date'])['allFailure'].max()\n",
    "WL['flag_2days'] = EBStest.groupby(['wellname','failure_date'])['TubingFailure'].max()\n",
    "\n",
    "WL['caldate'] = EBStest.groupby(['wellname','failure_date'])['caldate'].max()\n",
    "\n",
    "WL['wellname'] = EBStest.groupby(['wellname','failure_date'])['wellname'].first()\n",
    "WL['Pred_Threshold'] = EBStest.groupby(['wellname','failure_date'])['Pred_Threshold'].max()\n",
    "WL['TP'] = 0\n",
    "WL['FP'] = 0\n",
    "\n",
    "WL['pranfail'] = WL['wellname'].astype(str) + WL['failure_date'].astype(str)\n",
    "\n",
    "print('Total Failure+Well',WL.pranfail.nunique())\n",
    "print('Total All Failure ',WL[WL.failure_flag_all == 1].pranfail.nunique())\n",
    "WL['TP_all'] = WL[(WL.failure_flag_all == 1) & (WL.Pred_Threshold == 1)].pranfail.nunique()\n",
    "WL['FP_all'] = WL[(WL.failure_flag_all == 0) & (WL.Pred_Threshold == 1)].pranfail.nunique()\n",
    "print('Total All Failure Caught', WL[(WL.failure_flag_all == 1) & (WL.Pred_Threshold == 1)].pranfail.nunique())\n",
    "print('Total All False Alert', WL[(WL.failure_flag_all == 0) & (WL.Pred_Threshold == 1)].pranfail.nunique())\n",
    "print('Total Tubing Failure ',WL[WL.flag_2days == 1].pranfail.nunique())\n",
    "WL['TP_tubing'] = WL[(WL.flag_2days == 1) & (WL.Pred_Threshold == 1)].pranfail.nunique()\n",
    "WL['FP_tubing'] = WL[(WL.flag_2days == 0) & (WL.Pred_Threshold == 1)].pranfail.nunique()\n",
    "print('Total Tubing Failure Caught', WL[(WL.flag_2days == 1) & (WL.Pred_Threshold == 1)].pranfail.nunique())\n",
    "print('Total Tubing False Alert', WL[(WL.flag_2days == 0) & (WL.Pred_Threshold == 1)].pranfail.nunique())"
   ]
  },
  {
   "cell_type": "code",
   "execution_count": 56,
   "metadata": {},
   "outputs": [
    {
     "data": {
      "text/html": [
       "<style scoped>\n",
       "  .ansiout {\n",
       "    display: block;\n",
       "    unicode-bidi: embed;\n",
       "    white-space: pre-wrap;\n",
       "    word-wrap: break-word;\n",
       "    word-break: break-all;\n",
       "    font-family: \"Source Code Pro\", \"Menlo\", monospace;;\n",
       "    font-size: 13px;\n",
       "    color: #555;\n",
       "    margin-left: 4px;\n",
       "    line-height: 19px;\n",
       "  }\n",
       "</style>\n",
       "<div class=\"ansiout\"></div>"
      ]
     },
     "metadata": {},
     "output_type": "display_data"
    }
   ],
   "source": [
    "EBStest['allFailure_rol'] = EBStest.groupby(['wellname'])['allFailure'].shift(-2)\n",
    "EBStest['FP'] = 0\n",
    "EBStest.loc[(EBStest.allFailure == 0) & (EBStest.Pred_Threshold == 1),'FP'] = 1\n",
    "WL['FP_R'] = EBStest.groupby(['wellname','failure_date'])['FP'].sum()"
   ]
  },
  {
   "cell_type": "code",
   "execution_count": 57,
   "metadata": {},
   "outputs": [
    {
     "data": {
      "text/html": [
       "<style scoped>\n",
       "  .ansiout {\n",
       "    display: block;\n",
       "    unicode-bidi: embed;\n",
       "    white-space: pre-wrap;\n",
       "    word-wrap: break-word;\n",
       "    word-break: break-all;\n",
       "    font-family: \"Source Code Pro\", \"Menlo\", monospace;;\n",
       "    font-size: 13px;\n",
       "    color: #555;\n",
       "    margin-left: 4px;\n",
       "    line-height: 19px;\n",
       "  }\n",
       "</style>\n",
       "<div class=\"ansiout\">     0  TotalFailure  TrueFailurePredicted  ...   Value  TestStartDate TestEndDate\n",
       "0  EBS           282                    62  ...  191400     2020-03-15  2020-07-13\n",
       "\n",
       "[1 rows x 7 columns]\n",
       "</div>"
      ]
     },
     "metadata": {},
     "output_type": "display_data"
    }
   ],
   "source": [
    "EBSScore = pd.DataFrame(data = ['EBS'])\n",
    "EBSScore['TotalFailure'] = WL[WL.failure_flag_all == 1].pranfail.nunique()\n",
    "#### True prediction if predicted 1, actual (+/- 2 days) is 0 at a well/failure level. \n",
    "EBSScore['TrueFailurePredicted'] =   WL[(WL.failure_flag_all == 1) & (WL.Pred_Threshold == 1)].pranfail.nunique()\n",
    "##### False alert days calculation. If predicted 1, actual 0, and predictded more than 4 days prior to failure than false alert day\n",
    "EBSScore['FalseAlertDays'] = EBStest['FP'].sum()\n",
    "EBSScore['Value'] = EBSScore['TrueFailurePredicted']* 6600 + EBSScore['FalseAlertDays']*-2200\n",
    "EBSScore['TestStartDate'] =  EBStest.caldate.min()\n",
    "EBSScore['TestEndDate'] = EBStest.caldate.max()\n",
    "print(EBSScore)"
   ]
  },
  {
   "cell_type": "code",
   "execution_count": 58,
   "metadata": {},
   "outputs": [
    {
     "data": {
      "text/html": [
       "<div>\n",
       "<style scoped>\n",
       "    .dataframe tbody tr th:only-of-type {\n",
       "        vertical-align: middle;\n",
       "    }\n",
       "\n",
       "    .dataframe tbody tr th {\n",
       "        vertical-align: top;\n",
       "    }\n",
       "\n",
       "    .dataframe thead th {\n",
       "        text-align: right;\n",
       "    }\n",
       "</style>\n",
       "<table border=\"1\" class=\"dataframe\">\n",
       "  <thead>\n",
       "    <tr style=\"text-align: right;\">\n",
       "      <th></th>\n",
       "      <th>0</th>\n",
       "      <th>TotalFailure</th>\n",
       "      <th>TrueFailurePredicted</th>\n",
       "      <th>FalseAlertDays</th>\n",
       "      <th>Value</th>\n",
       "      <th>TestStartDate</th>\n",
       "      <th>TestEndDate</th>\n",
       "    </tr>\n",
       "  </thead>\n",
       "  <tbody>\n",
       "    <tr>\n",
       "      <th>0</th>\n",
       "      <td>EBS</td>\n",
       "      <td>282</td>\n",
       "      <td>62</td>\n",
       "      <td>99</td>\n",
       "      <td>191400</td>\n",
       "      <td>2020-03-15</td>\n",
       "      <td>2020-07-13</td>\n",
       "    </tr>\n",
       "  </tbody>\n",
       "</table>\n",
       "</div>"
      ]
     },
     "metadata": {},
     "output_type": "display_data"
    }
   ],
   "source": [
    "EBSScore"
   ]
  },
  {
   "cell_type": "code",
   "execution_count": 59,
   "metadata": {},
   "outputs": [
    {
     "data": {
      "text/html": [
       "<div>\n",
       "<style scoped>\n",
       "    .dataframe tbody tr th:only-of-type {\n",
       "        vertical-align: middle;\n",
       "    }\n",
       "\n",
       "    .dataframe tbody tr th {\n",
       "        vertical-align: top;\n",
       "    }\n",
       "\n",
       "    .dataframe thead th {\n",
       "        text-align: right;\n",
       "    }\n",
       "</style>\n",
       "<table border=\"1\" class=\"dataframe\">\n",
       "  <thead>\n",
       "    <tr style=\"text-align: right;\">\n",
       "      <th></th>\n",
       "      <th></th>\n",
       "      <th>failure_date</th>\n",
       "      <th>failure_flag_all</th>\n",
       "      <th>flag_2days</th>\n",
       "      <th>caldate</th>\n",
       "      <th>wellname</th>\n",
       "      <th>Pred_Threshold</th>\n",
       "      <th>TP</th>\n",
       "      <th>FP</th>\n",
       "      <th>pranfail</th>\n",
       "      <th>TP_all</th>\n",
       "      <th>FP_all</th>\n",
       "      <th>TP_tubing</th>\n",
       "      <th>FP_tubing</th>\n",
       "      <th>FP_R</th>\n",
       "    </tr>\n",
       "    <tr>\n",
       "      <th>wellname</th>\n",
       "      <th>failure_date</th>\n",
       "      <th></th>\n",
       "      <th></th>\n",
       "      <th></th>\n",
       "      <th></th>\n",
       "      <th></th>\n",
       "      <th></th>\n",
       "      <th></th>\n",
       "      <th></th>\n",
       "      <th></th>\n",
       "      <th></th>\n",
       "      <th></th>\n",
       "      <th></th>\n",
       "      <th></th>\n",
       "      <th></th>\n",
       "    </tr>\n",
       "  </thead>\n",
       "  <tbody>\n",
       "    <tr>\n",
       "      <th>A. IVERSON 12-13H</th>\n",
       "      <th>Current Run</th>\n",
       "      <td>Current Run</td>\n",
       "      <td>0</td>\n",
       "      <td>0</td>\n",
       "      <td>2020-04-09</td>\n",
       "      <td>A. IVERSON 12-13H</td>\n",
       "      <td>0</td>\n",
       "      <td>0</td>\n",
       "      <td>0</td>\n",
       "      <td>A. IVERSON 12-13HCurrent Run</td>\n",
       "      <td>62</td>\n",
       "      <td>37</td>\n",
       "      <td>19</td>\n",
       "      <td>80</td>\n",
       "      <td>0</td>\n",
       "    </tr>\n",
       "    <tr>\n",
       "      <th rowspan=\"2\" valign=\"top\">ALWIN 13-1H</th>\n",
       "      <th>2020-04-27</th>\n",
       "      <td>2020-04-27</td>\n",
       "      <td>1</td>\n",
       "      <td>1</td>\n",
       "      <td>2020-04-28</td>\n",
       "      <td>ALWIN 13-1H</td>\n",
       "      <td>0</td>\n",
       "      <td>0</td>\n",
       "      <td>0</td>\n",
       "      <td>ALWIN 13-1H2020-04-27</td>\n",
       "      <td>62</td>\n",
       "      <td>37</td>\n",
       "      <td>19</td>\n",
       "      <td>80</td>\n",
       "      <td>0</td>\n",
       "    </tr>\n",
       "    <tr>\n",
       "      <th>Current Run</th>\n",
       "      <td>Current Run</td>\n",
       "      <td>0</td>\n",
       "      <td>0</td>\n",
       "      <td>2020-07-13</td>\n",
       "      <td>ALWIN 13-1H</td>\n",
       "      <td>0</td>\n",
       "      <td>0</td>\n",
       "      <td>0</td>\n",
       "      <td>ALWIN 13-1HCurrent Run</td>\n",
       "      <td>62</td>\n",
       "      <td>37</td>\n",
       "      <td>19</td>\n",
       "      <td>80</td>\n",
       "      <td>0</td>\n",
       "    </tr>\n",
       "    <tr>\n",
       "      <th>AN-BOHMBACH-153-94-2734H-1</th>\n",
       "      <th>Current Run</th>\n",
       "      <td>Current Run</td>\n",
       "      <td>0</td>\n",
       "      <td>0</td>\n",
       "      <td>2020-07-13</td>\n",
       "      <td>AN-BOHMBACH-153-94-2734H-1</td>\n",
       "      <td>0</td>\n",
       "      <td>0</td>\n",
       "      <td>0</td>\n",
       "      <td>AN-BOHMBACH-153-94-2734H-1Current Run</td>\n",
       "      <td>62</td>\n",
       "      <td>37</td>\n",
       "      <td>19</td>\n",
       "      <td>80</td>\n",
       "      <td>0</td>\n",
       "    </tr>\n",
       "    <tr>\n",
       "      <th>AN-BOHMBACH-153-94-2734H-10</th>\n",
       "      <th>Current Run</th>\n",
       "      <td>Current Run</td>\n",
       "      <td>0</td>\n",
       "      <td>0</td>\n",
       "      <td>2020-03-29</td>\n",
       "      <td>AN-BOHMBACH-153-94-2734H-10</td>\n",
       "      <td>0</td>\n",
       "      <td>0</td>\n",
       "      <td>0</td>\n",
       "      <td>AN-BOHMBACH-153-94-2734H-10Current Run</td>\n",
       "      <td>62</td>\n",
       "      <td>37</td>\n",
       "      <td>19</td>\n",
       "      <td>80</td>\n",
       "      <td>0</td>\n",
       "    </tr>\n",
       "    <tr>\n",
       "      <th>...</th>\n",
       "      <th>...</th>\n",
       "      <td>...</td>\n",
       "      <td>...</td>\n",
       "      <td>...</td>\n",
       "      <td>...</td>\n",
       "      <td>...</td>\n",
       "      <td>...</td>\n",
       "      <td>...</td>\n",
       "      <td>...</td>\n",
       "      <td>...</td>\n",
       "      <td>...</td>\n",
       "      <td>...</td>\n",
       "      <td>...</td>\n",
       "      <td>...</td>\n",
       "      <td>...</td>\n",
       "    </tr>\n",
       "    <tr>\n",
       "      <th>TWILIGHT 1-24H</th>\n",
       "      <th>Current Run</th>\n",
       "      <td>Current Run</td>\n",
       "      <td>0</td>\n",
       "      <td>0</td>\n",
       "      <td>2020-07-13</td>\n",
       "      <td>TWILIGHT 1-24H</td>\n",
       "      <td>0</td>\n",
       "      <td>0</td>\n",
       "      <td>0</td>\n",
       "      <td>TWILIGHT 1-24HCurrent Run</td>\n",
       "      <td>62</td>\n",
       "      <td>37</td>\n",
       "      <td>19</td>\n",
       "      <td>80</td>\n",
       "      <td>0</td>\n",
       "    </tr>\n",
       "    <tr>\n",
       "      <th>WAHLSTROM 18-1H</th>\n",
       "      <th>Current Run</th>\n",
       "      <td>Current Run</td>\n",
       "      <td>0</td>\n",
       "      <td>0</td>\n",
       "      <td>2020-07-13</td>\n",
       "      <td>WAHLSTROM 18-1H</td>\n",
       "      <td>0</td>\n",
       "      <td>0</td>\n",
       "      <td>0</td>\n",
       "      <td>WAHLSTROM 18-1HCurrent Run</td>\n",
       "      <td>62</td>\n",
       "      <td>37</td>\n",
       "      <td>19</td>\n",
       "      <td>80</td>\n",
       "      <td>0</td>\n",
       "    </tr>\n",
       "    <tr>\n",
       "      <th>WERRE TRUST 29-1H</th>\n",
       "      <th>Current Run</th>\n",
       "      <td>Current Run</td>\n",
       "      <td>0</td>\n",
       "      <td>0</td>\n",
       "      <td>2020-07-12</td>\n",
       "      <td>WERRE TRUST 29-1H</td>\n",
       "      <td>0</td>\n",
       "      <td>0</td>\n",
       "      <td>0</td>\n",
       "      <td>WERRE TRUST 29-1HCurrent Run</td>\n",
       "      <td>62</td>\n",
       "      <td>37</td>\n",
       "      <td>19</td>\n",
       "      <td>80</td>\n",
       "      <td>0</td>\n",
       "    </tr>\n",
       "    <tr>\n",
       "      <th rowspan=\"2\" valign=\"top\">WEYRAUCH 15-11H</th>\n",
       "      <th>2020-03-14</th>\n",
       "      <td>2020-03-14</td>\n",
       "      <td>1</td>\n",
       "      <td>1</td>\n",
       "      <td>2020-03-15</td>\n",
       "      <td>WEYRAUCH 15-11H</td>\n",
       "      <td>0</td>\n",
       "      <td>0</td>\n",
       "      <td>0</td>\n",
       "      <td>WEYRAUCH 15-11H2020-03-14</td>\n",
       "      <td>62</td>\n",
       "      <td>37</td>\n",
       "      <td>19</td>\n",
       "      <td>80</td>\n",
       "      <td>0</td>\n",
       "    </tr>\n",
       "    <tr>\n",
       "      <th>Current Run</th>\n",
       "      <td>Current Run</td>\n",
       "      <td>0</td>\n",
       "      <td>0</td>\n",
       "      <td>2020-07-13</td>\n",
       "      <td>WEYRAUCH 15-11H</td>\n",
       "      <td>0</td>\n",
       "      <td>0</td>\n",
       "      <td>0</td>\n",
       "      <td>WEYRAUCH 15-11HCurrent Run</td>\n",
       "      <td>62</td>\n",
       "      <td>37</td>\n",
       "      <td>19</td>\n",
       "      <td>80</td>\n",
       "      <td>0</td>\n",
       "    </tr>\n",
       "  </tbody>\n",
       "</table>\n",
       "<p>1335 rows × 14 columns</p>\n",
       "</div>"
      ]
     },
     "metadata": {},
     "output_type": "display_data"
    }
   ],
   "source": [
    "WL"
   ]
  },
  {
   "cell_type": "markdown",
   "metadata": {},
   "source": [
    "# Compare Newly Retrained Model Score Card to Current Score Card and Update Model"
   ]
  },
  {
   "cell_type": "code",
   "execution_count": 61,
   "metadata": {},
   "outputs": [
    {
     "data": {
      "text/html": [
       "<style scoped>\n",
       "  .ansiout {\n",
       "    display: block;\n",
       "    unicode-bidi: embed;\n",
       "    white-space: pre-wrap;\n",
       "    word-wrap: break-word;\n",
       "    word-break: break-all;\n",
       "    font-family: \"Source Code Pro\", \"Menlo\", monospace;;\n",
       "    font-size: 13px;\n",
       "    color: #555;\n",
       "    margin-left: 4px;\n",
       "    line-height: 19px;\n",
       "  }\n",
       "</style>\n",
       "<div class=\"ansiout\">New Model Value (last 4 months): 0    413600\n",
       "Name: Value, dtype: int64 Current EBS Value (last 4 months):  0    191400\n",
       "Name: Value, dtype: int64\n",
       "Recommend Switch to Newly Trained Model\n",
       "          0  Best Threshhold  ...   Value  TestStartDate\n",
       "0  NewModel             0.84  ...  413600     2020-07-13\n",
       "\n",
       "[1 rows x 8 columns]\n",
       "</div>"
      ]
     },
     "metadata": {},
     "output_type": "display_data"
    }
   ],
   "source": [
    "### compare newly trained model with existing model result based on ECONOMIC VALUE gain\n",
    "Path = \"/dbfs/FileStore/tubleak/TubingLeakModelRetrain_XGB_v4_autoretrain_ModelScore.csv\"\n",
    "print('New Model Value (last 4 months):', ModelScore.Value, 'Current EBS Value (last 4 months): ', EBSScore.Value)\n",
    "\n",
    "if ModelScore.Value[0] > EBSScore.Value[0]:\n",
    "    # if new model value is greater than current model version, update model used to new version\n",
    "    print('Recommend Switch to Newly Trained Model')\n",
    "    print(ModelScore)\n",
    "    pickle.dump(model, (open('/dbfs/FileStore/tubleak/TubingLeakModelRetrain_XGB_v3_auto.p', \"wb\")))\n",
    "    ModelScore.to_csv('/dbfs/FileStore/tubleak/TubingLeakModelRetrain_XGB_v3_autoretrain_ModelScore.csv')\n",
    "    result.to_csv('/dbfs/FileStore/tubleak/TubingLeakModelRetrain_XGB_v3_autoretrain_predresult.csv')\n",
    "  "
   ]
  },
  {
   "cell_type": "code",
   "execution_count": 62,
   "metadata": {},
   "outputs": [],
   "source": [
    "## to access ModelScore csv files from web\n",
    "# https://eastus.azuredatabricks.net/files/tubleak/TubingLeakModelRetrain_XGB_v3_autoretrain_ModelScore.csv?o=5852914501436505"
   ]
  },
  {
   "cell_type": "code",
   "execution_count": 63,
   "metadata": {},
   "outputs": [],
   "source": [
    "# to access result csv \n",
    "# https://eastus.azuredatabricks.net/files/tubleak/TubingLeakModelRetrain_XGB_v3_autoretrain_predresult.csv?o=5852914501436505"
   ]
  },
  {
   "cell_type": "code",
   "execution_count": 64,
   "metadata": {},
   "outputs": [],
   "source": [
    "## to access DailyLevel csv files from web\n",
    "# DailyLevel.to_csv('/dbfs/FileStore/tubleak/TubingLeakModelRetrain_XGB_v3_autoretrain_DailyLevel.csv')\n",
    "# https://eastus.azuredatabricks.net/files/tubleak/TubingLeakModelRetrain_XGB_v3_autoretrain_DailyLevel.csv?o=5852914501436505"
   ]
  },
  {
   "cell_type": "code",
   "execution_count": 65,
   "metadata": {},
   "outputs": [],
   "source": [
    "## to access test csv files from web\n",
    "# https://eastus.azuredatabricks.net/files/tubleak/test.csv?o=5852914501436505"
   ]
  },
  {
   "cell_type": "code",
   "execution_count": 66,
   "metadata": {},
   "outputs": [],
   "source": [
    "## If needed, save sweep csv on file\n",
    "#sweep.to_csv('/dbfs/FileStore/tubleak/TubingLeakModelRetrain_XGB_v3_ThresholdSweep.csv')\n",
    "#https://eastus.azuredatabricks.net/files/tubleak/TubingLeakModelRetrain_XGB_v3_ThresholdSweep.csv?o=5852914501436505"
   ]
  },
  {
   "cell_type": "code",
   "execution_count": 67,
   "metadata": {},
   "outputs": [],
   "source": []
  }
 ],
 "metadata": {
  "kernelspec": {
   "display_name": "Python 3",
   "language": "python",
   "name": "python3"
  },
  "language_info": {
   "codemirror_mode": {
    "name": "ipython",
    "version": 3
   },
   "file_extension": ".py",
   "mimetype": "text/x-python",
   "name": "python",
   "nbconvert_exporter": "python",
   "pygments_lexer": "ipython3",
   "version": "3.8.3"
  },
  "name": "Python XGboost Auto Retrain",
  "notebookId": 23134987813329
 },
 "nbformat": 4,
 "nbformat_minor": 1
}
